{
 "cells": [
  {
   "cell_type": "raw",
   "id": "3d8193b7-c4d0-49c8-91c4-5d8a23452bfe",
   "metadata": {},
   "source": [
    "quick epq notes:"
   ]
  },
  {
   "cell_type": "raw",
   "id": "0ba64bb8-a219-400a-bc07-b896f5707b9d",
   "metadata": {},
   "source": [
    "title: Neural translation for a reduced vocabulary artificially constructed language.\n",
    "       Neural translation for toki pona.\n",
    "       Neural translation approaches for toki pona.\n",
    "       Neural translation approaches for \"toki pona\".\n",
    "       pilin ilo: neural translation approaches for toki pona.    <<\n",
    "       pilin ilo: neural translation approaches for \"toki pona\". \n",
    "       pilin ilo: neural translation for \"toki pona\".\n",
    "       pilin ilo: neural translation for toki pona."
   ]
  },
  {
   "cell_type": "raw",
   "id": "77bc2c8f-950f-4adc-9e74-85edcc1f2b35",
   "metadata": {},
   "source": [
    "(for research)\n",
    "todo list:  Thing                  |DOING|DONE|\n",
    "            Source Analysis        |     |    |\n",
    "            spellcheck SA          |     |    |\n",
    "            Construction of models |     |    |\n",
    "            Training of models     |     |    |\n",
    "            Testing of models      |     |    |"
   ]
  }
 ],
 "metadata": {
  "kernelspec": {
   "display_name": "Python 3 (ipykernel)",
   "language": "python",
   "name": "python3"
  },
  "language_info": {
   "codemirror_mode": {
    "name": "ipython",
    "version": 3
   },
   "file_extension": ".py",
   "mimetype": "text/x-python",
   "name": "python",
   "nbconvert_exporter": "python",
   "pygments_lexer": "ipython3",
   "version": "3.8.10"
  }
 },
 "nbformat": 4,
 "nbformat_minor": 5
}
