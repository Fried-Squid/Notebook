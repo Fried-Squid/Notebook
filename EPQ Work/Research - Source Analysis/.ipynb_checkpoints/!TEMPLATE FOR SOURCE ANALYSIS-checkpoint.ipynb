{
 "cells": [
  {
   "cell_type": "markdown",
   "id": "63bd5bc0-bd07-4ae3-8e35-6a04e55969d7",
   "metadata": {},
   "source": [
    "<div align=\"left\"><table border=\"0\" align=left>\n",
    " <tr>\n",
    "    <td>Type of source</td>\n",
    "    <td></td>\n",
    " </tr>\n",
    " <tr>\n",
    "    <td>Publication Date</td>\n",
    "    <td></td>\n",
    " </tr>\n",
    "  <tr>\n",
    "    <td>Author</td>\n",
    "    <td></td>\n",
    " </tr>\n",
    " <tr>\n",
    "    <td>Key Quotes</td>\n",
    "    <td></td>\n",
    " </tr>\n",
    " <tr>\n",
    "    <td>Purpose and significance</td>\n",
    "    <td></td>\n",
    " </tr>\n",
    " <tr>\n",
    "    <td>Main Ideas</td>\n",
    "    <td></td>\n",
    " </tr>\n",
    "  <tr>\n",
    "    <td>What research questions does it answer?</td>\n",
    "    <td></td>\n",
    " </tr>\n",
    " <tr>\n",
    "    <td>Do you agree?</td>\n",
    "    <td></td>\n",
    " </tr>\n",
    " <tr>\n",
    "    <td>What needs further research</td>\n",
    "   <td></td>\n",
    " </tr>\n",
    " <tr>\n",
    "    <td>References (hyperlink this)</td>\n",
    "    <td></td>\n",
    " </tr>\n",
    "  <tr>\n",
    "    <td>Is there anything missing or wrong with the source?</td>\n",
    "   <td></td>\n",
    " </tr>\n",
    " <tr>\n",
    "    <td>Evaluation</td>\n",
    "    <td></td>\n",
    " </tr>\n",
    "  <tr>    \n",
    "    <td>Conclusion</td>\n",
    "    <td></td>\n",
    " </tr>\n",
    "</table></div>"
   ]
  },
  {
   "cell_type": "code",
   "execution_count": null,
   "id": "761c7fb7-5c0d-49f5-b3e4-7bb744b597e4",
   "metadata": {},
   "outputs": [],
   "source": []
  },
  {
   "cell_type": "code",
   "execution_count": null,
   "id": "62edee3a-86dc-4f44-aea7-08b0416099c2",
   "metadata": {},
   "outputs": [],
   "source": []
  }
 ],
 "metadata": {
  "kernelspec": {
   "display_name": "Python 3 (ipykernel)",
   "language": "python",
   "name": "python3"
  },
  "language_info": {
   "codemirror_mode": {
    "name": "ipython",
    "version": 3
   },
   "file_extension": ".py",
   "mimetype": "text/x-python",
   "name": "python",
   "nbconvert_exporter": "python",
   "pygments_lexer": "ipython3",
   "version": "3.7.3"
  }
 },
 "nbformat": 4,
 "nbformat_minor": 5
}
