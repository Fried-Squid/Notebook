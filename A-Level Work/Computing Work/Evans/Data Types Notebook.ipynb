{
 "cells": [
  {
   "cell_type": "markdown",
   "id": "3f4a5a43-1826-4e4d-889b-9db70cf3480d",
   "metadata": {},
   "source": [
    "<span style=\"font-size: 50px\">Data Types.</span>\n",
    "<hr>\n",
    "<span style=\"font-size: 30px\">Binary and Hexadecimal.</span>\n",
    "<ul>\n",
    "    <li>\n",
    "    $ Base_N =$ a number system with N symbols to represent numbers. E.g. Binary is $Base_2$ as it has $0$s and $1$s.\n",
    "    </li><li>\n",
    "    The important bases we need to know are $Base_2$(Binary), $Base_{10}$(Decimal, or Denary) and $Base_{16}$(Hexadecimal)\n",
    "    </li>\n",
    " <ul>\n"
   ]
  },
  {
   "cell_type": "code",
   "execution_count": 4,
   "id": "f6d09553-6aad-4e0f-8c4d-c06a21dc5b7e",
   "metadata": {},
   "outputs": [
    {
     "name": "stdin",
     "output_type": "stream",
     "text": [
      "Denary: 47\n"
     ]
    },
    {
     "name": "stdout",
     "output_type": "stream",
     "text": [
      "Binary: 101111\n"
     ]
    }
   ],
   "source": [
    "print(\"Binary: \"+str(\n",
    "    bin(\n",
    "        int(\n",
    "            input(\"Denary:\")\n",
    "        )))[2:])"
   ]
  },
  {
   "cell_type": "code",
   "execution_count": 6,
   "id": "4629f163-5b4d-4033-acde-fe6acb557878",
   "metadata": {},
   "outputs": [
    {
     "name": "stdin",
     "output_type": "stream",
     "text": [
      "Denary: 47\n"
     ]
    },
    {
     "name": "stdout",
     "output_type": "stream",
     "text": [
      "Hex   : 2f\n"
     ]
    }
   ],
   "source": [
    "print(\"Hex   : \"+str(\n",
    "    hex(\n",
    "        int(\n",
    "            input(\"Denary:\")\n",
    "        )))[2:])"
   ]
  },
  {
   "cell_type": "code",
   "execution_count": null,
   "id": "aaba637d-55c7-40dc-8df9-041bab3632d7",
   "metadata": {},
   "outputs": [],
   "source": []
  }
 ],
 "metadata": {
  "kernelspec": {
   "display_name": "Python 3 (ipykernel)",
   "language": "python",
   "name": "python3"
  },
  "language_info": {
   "codemirror_mode": {
    "name": "ipython",
    "version": 3
   },
   "file_extension": ".py",
   "mimetype": "text/x-python",
   "name": "python",
   "nbconvert_exporter": "python",
   "pygments_lexer": "ipython3",
   "version": "3.7.3"
  }
 },
 "nbformat": 4,
 "nbformat_minor": 5
}
