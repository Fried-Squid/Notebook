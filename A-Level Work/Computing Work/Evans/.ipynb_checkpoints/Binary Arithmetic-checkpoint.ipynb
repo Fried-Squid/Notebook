{
 "cells": [
  {
   "cell_type": "markdown",
   "id": "fb726b5e-49c3-484c-bce9-11274d46e3a9",
   "metadata": {},
   "source": [
    "<span style=\"font-size: 50px\">Binary Arithmetic</span><hr>\n"
   ]
  },
  {
   "cell_type": "markdown",
   "id": "995571ec-6d18-42a7-a921-2064ba965575",
   "metadata": {},
   "source": [
    "<ul><li> 0+0 = 0 </li><li> 0+1 || 1+0 = 1</li><li> 1+1 = 0 (carry the 1)</li><li>1+1 = 1 (carry the 1)</li>"
   ]
  },
  {
   "cell_type": "markdown",
   "id": "86a5ec25-6d2f-4b7f-bf1a-c52d97ad7801",
   "metadata": {},
   "source": [
    "<hr><span style=\"font-size:30px\">Overflows</span>\n",
    "add overflow nots\n",
    "<hr><span style=\"font-size:30px\">Representing negative numbers: sign + magnitude</span>\n",
    "add sign + magnitude notes\n",
    "<hr><span style=\"font-size:30px\">Representing negative numbers: two's complement</span>\n",
    "add twos complement notes\n",
    "<hr><span style=\"font-size:30px\">Representing negative numbers: arithmetic with two's complement</span>\n",
    "youll never guess what that section's on"
   ]
  }
 ],
 "metadata": {
  "kernelspec": {
   "display_name": "Python 3",
   "language": "python",
   "name": "python3"
  },
  "language_info": {
   "codemirror_mode": {
    "name": "ipython",
    "version": 3
   },
   "file_extension": ".py",
   "mimetype": "text/x-python",
   "name": "python",
   "nbconvert_exporter": "python",
   "pygments_lexer": "ipython3",
   "version": "3.9.2"
  }
 },
 "nbformat": 4,
 "nbformat_minor": 5
}
