{
 "cells": [
  {
   "cell_type": "markdown",
   "id": "c11ad266-4e7e-4788-9a8e-4d0b328df6c2",
   "metadata": {},
   "source": [
    "<span style=\"font-size: 50px\">Data Types.</span>\n",
    "<hr>\n",
    "<span style=\"font-size: 30px\">Binary and Hexadecimal.</span>\n",
    "<ul>\n",
    "    <li>\n",
    "    $ Base_N =$ a number system with N symbols to represent numbers. E.g. Binary is $Base_2$ as it has $0$s and $1$s.\n",
    "    </li><li>\n",
    "    The important bases we need to know are $Base_2$(Binary), $Base_{10}$(Decimal, or Denary) and $Base_{16}$(Hexadecimal)\n",
    "    </li>\n",
    " <ul>\n"
   ]
  },
  {
   "cell_type": "code",
   "execution_count": 4,
   "id": "f6d09553-6aad-4e0f-8c4d-c06a21dc5b7e",
   "metadata": {},
   "outputs": [
    {
     "name": "stdin",
     "output_type": "stream",
     "text": [
      "Denary: 47\n"
     ]
    },
    {
     "name": "stdout",
     "output_type": "stream",
     "text": [
      "Binary: 101111\n"
     ]
    }
   ],
   "source": [
    "print(\"Binary: \"+str(\n",
    "    bin(\n",
    "        int(\n",
    "            input(\"Denary:\")\n",
    "        )))[2:])"
   ]
  },
  {
   "cell_type": "code",
   "execution_count": 6,
   "id": "4629f163-5b4d-4033-acde-fe6acb557878",
   "metadata": {},
   "outputs": [
    {
     "name": "stdin",
     "output_type": "stream",
     "text": [
      "Denary: 47\n"
     ]
    },
    {
     "name": "stdout",
     "output_type": "stream",
     "text": [
      "Hex   : 2f\n"
     ]
    }
   ],
   "source": [
    "print(\"Hex   : \"+str(\n",
    "    hex(\n",
    "        int(\n",
    "            input(\"Denary:\")\n",
    "        )))[2:])"
   ]
  },
  {
   "cell_type": "markdown",
   "id": "9b58f595-2b67-477b-bc86-bcf371ba4e2d",
   "metadata": {},
   "source": [
    "<hr>\n",
    "<span style=\"font-size: 30px\">Hexadecimal Color Codes</span>\n",
    "<ul>\n",
    "    <li>\n",
    "    6 bit hex numbers are used to represed colors.\n",
    "    </li><li>\n",
    "    The first 2 bits encode 1 binary byte, a red value from 0-255\n",
    "    </li><li>\n",
    "    The second 2 bits encode 1 binary byte, a green value from 0-255\n",
    "    </li><li>\n",
    "    The third 2 bits encode 1 binary byte, a blue value from 0-255\n",
    "    </li><li>\n",
    "    EXAMPLES:</li> \n",
    "    <ul>\n",
    "        <li>#00FF00 = 0r 255g 0b</li>\n",
    "        <li>#FF0000 = 255r 0g 0b</li>\n",
    "        <li>#FFFF00 = 255r 255g 0b</li>\n",
    "        <li>#000000 = 0r 0g 0b</li>\n",
    "        <li>#00ACEF = 0r 172g 239b</li>\n",
    "    </ul>\n",
    " <ul>\n"
   ]
  },
  {
   "cell_type": "markdown",
   "id": "b3e17c56-b560-4311-b23e-9d903d5fa879",
   "metadata": {},
   "source": [
    "<hr>\n",
    "<span style=\"font-size: 30px\">Converting binary, denary and hex.</span>\n",
    "<ul>\n",
    "    <li>\n",
    "    Converting binary to denary is easy. Times each digit by $2^{n-1}$ where N is the position of the digit from the right, and add them all together.\n",
    "    </li><li>\n",
    "    Going from denary to binary is harder. Write out the powers of 2, and if the power fits in the denary number, put a 1 in that column and take away the power from the number.\n",
    "    </li><li>\n",
    "    Binary to hex is easy, split the binary into 4 bit nibbles and convert those to hex.\n",
    "    </li><li>\n",
    "    Hex to binary is also easy, simply do the reverse of binary to hex.\n",
    "    </li>\n",
    " <ul>"
   ]
  },
  {
   "cell_type": "markdown",
   "id": "3f290c56-349b-4789-aae6-3df5887a42cf",
   "metadata": {},
   "source": [
    "<hr>\n",
    "<span style=\"font-size: 30px\">Primitive and composite data types</span>\n",
    "    <li>\n",
    "    Primitive data types are directly represented at the lowest level of a language, e.g. integers\n",
    "    </li><li>\n",
    "    Composite data types are made up of many primitive data types, e.g. arrays.\n",
    "    </li>\n",
    " <ul>"
   ]
  },
  {
   "cell_type": "markdown",
   "id": "d76dbf7f-dc65-4170-9f3a-74e7e3d7890a",
   "metadata": {},
   "source": [
    "<hr>\n",
    "<span style=\"font-size: 30px\">ASCII and Unicode</span>\n",
    "    <li>\n",
    "    Character sets are groups of characters with identifying numbers.\n",
    "    </li><li>\n",
    "    Character sets are used to store all characters in a language, or in many languages.\n",
    "    </li>\n",
    " <ul>"
   ]
  },
  {
   "cell_type": "code",
   "execution_count": null,
   "id": "ccb935b0-16f5-4f20-9a5b-d7af8d94e4f2",
   "metadata": {},
   "outputs": [],
   "source": []
  }
 ],
 "metadata": {
  "kernelspec": {
   "display_name": "Python 3 (ipykernel)",
   "language": "python",
   "name": "python3"
  },
  "language_info": {
   "codemirror_mode": {
    "name": "ipython",
    "version": 3
   },
   "file_extension": ".py",
   "mimetype": "text/x-python",
   "name": "python",
   "nbconvert_exporter": "python",
   "pygments_lexer": "ipython3",
   "version": "3.7.3"
  }
 },
 "nbformat": 4,
 "nbformat_minor": 5
}
