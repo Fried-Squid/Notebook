{
 "cells": [
  {
   "cell_type": "markdown",
   "id": "c4ad57a4-3873-4e45-88a7-944bf06ca29c",
   "metadata": {},
   "source": [
    "<span style=\"font-size:50px\">The \"basic\" model of a processor</span>\n",
    "<hr>"
   ]
  },
  {
   "cell_type": "markdown",
   "id": "7ea690d2-ca71-4a69-8c30-55ac1b9f1f0c",
   "metadata": {},
   "source": [
    "<img src=\"static/untitled.dio\">"
   ]
  },
  {
   "cell_type": "code",
   "execution_count": null,
   "id": "ffa3c9ab-2bf3-4906-b6b4-dc0ab7cb6514",
   "metadata": {},
   "outputs": [],
   "source": [
    "fix that ^ need windows for it"
   ]
  }
 ],
 "metadata": {
  "kernelspec": {
   "display_name": "Python 3",
   "language": "python",
   "name": "python3"
  },
  "language_info": {
   "codemirror_mode": {
    "name": "ipython",
    "version": 3
   },
   "file_extension": ".py",
   "mimetype": "text/x-python",
   "name": "python",
   "nbconvert_exporter": "python",
   "pygments_lexer": "ipython3",
   "version": "3.9.2"
  }
 },
 "nbformat": 4,
 "nbformat_minor": 5
}
