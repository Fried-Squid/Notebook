{
 "cells": [
  {
   "cell_type": "markdown",
   "id": "fb09ef18-e7e3-4888-9a85-de455b3df585",
   "metadata": {},
   "source": [
    "<span style=\"font-size: 50px\">Inputs, outputs and processing</span>"
   ]
  },
  {
   "cell_type": "raw",
   "id": "f644aa06-f06c-477a-84dc-0b10378a5099",
   "metadata": {},
   "source": [
    "See structure diagram.dio"
   ]
  }
 ],
 "metadata": {
  "kernelspec": {
   "display_name": "Python 3 (ipykernel)",
   "language": "python",
   "name": "python3"
  },
  "language_info": {
   "codemirror_mode": {
    "name": "ipython",
    "version": 3
   },
   "file_extension": ".py",
   "mimetype": "text/x-python",
   "name": "python",
   "nbconvert_exporter": "python",
   "pygments_lexer": "ipython3",
   "version": "3.7.3"
  }
 },
 "nbformat": 4,
 "nbformat_minor": 5
}
