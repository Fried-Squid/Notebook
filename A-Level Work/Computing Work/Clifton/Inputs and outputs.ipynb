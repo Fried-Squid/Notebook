{
 "cells": [
  {
   "cell_type": "markdown",
   "id": "fb09ef18-e7e3-4888-9a85-de455b3df585",
   "metadata": {},
   "source": [
    "<span style=\"font-size: 50px\">Inputs, outputs and processing</span><hr>"
   ]
  },
  {
   "cell_type": "markdown",
   "id": "dbc61d10-0163-4719-b2b2-8941950a6e19",
   "metadata": {
    "tags": []
   },
   "source": [
    "![i dont know what this does](static/struct_dia.png \"Diagram of a computer.\")"
   ]
  },
  {
   "cell_type": "markdown",
   "id": "d0e2a3a1-15b1-48d7-b3ca-4e97a7f47709",
   "metadata": {},
   "source": [
    "<span style=\"font-size: 30px\">Data, Information and Inputs.</span>\n",
    "<hr>\n",
    "<ul>\n",
    "    <li>\n",
    "    There is a subtle distinction between \"data\" and \"information\". \n",
    "    </li><li>\n",
    "    Data is a non-specific bit of data - for example, an integer or a string is data.\n",
    "    </li><li>\n",
    "    However, data is information <i>without meaning</i>. This means \"25\" is data, but it is \"25\" degress is information.\n",
    "    </li><li>\n",
    "    Remember back to the FDE cycle - that takes data from pointers not information.\n",
    "    </li><li>\n",
    "    INPUT DEVICES:</li> \n",
    "    <ul>\n",
    "        <li>Mice (all types)</li>\n",
    "        <li>Keyboards/Specialist keyboards</li>\n",
    "        <li>Sensors - anything that takes information from the outside world and makes it into data.</li>\n",
    "        <li>Microphones</li>\n",
    "        <li>Cameras</li>\n",
    "        <li>etc.</li>\n",
    "    </ul>\n",
    "    <li> All input devices <b>transfer data into the computer from the outside world</b>.</li>\n",
    "    <li> Generic <b>control circuits</b> take an input, process it, and then output something. This is, for example, a simple tape recorder.</li>\n",
    "    <li> However, <b>sensing circuits</b> have the output feed back to the input, making a loop. This is, for example, air conditioning.</li>\n",
    " <ul>\n",
    " "
   ]
  },
  {
   "cell_type": "markdown",
   "id": "e09609eb-afa9-4447-9cd2-68ad265043d3",
   "metadata": {},
   "source": [
    "<span style=\"font-size: 30px\">Output Devices.</span>\n",
    "<hr>\n",
    "<ul>\n",
    "    <li>\n",
    "    Output devices take data from the computer, and use it to affect the outside world.\n",
    "    </li><li>\n",
    "    OUTPUT DEVICES:\n",
    "    </li> \n",
    "    <ul>\n",
    "        <li>Printers</li>\n",
    "        <li>VDUs (Visual Display Units)</li>\n",
    "        <li>Servos, motors and other electromagnets</li>\n",
    "        <li>Heating elements.</li>\n",
    "        <li>Speakers, or other audio outputs.</li>\n",
    "        <li>etc.</li>\n",
    "    </ul>\n",
    " </ul>\n",
    "\n",
    "\n",
    "<span style=\"font-size: 20px\">Printers</span>\n",
    "<hr>\n",
    "<ul>\n",
    "    <li>\n",
    "    There are 3 types of printers, each working in different ways. \n",
    "    </li><li>\n",
    "    Types of printer:\n",
    "    </li> \n",
    "    <ul>\n",
    "        <li>Laser printer (see fig 1.)</li>\n",
    "        <li>Inkjet printers (see fig 2.)</li>\n",
    "        <li>Dot matrix printers (see fig 3.)</li>\n",
    "    </ul>\n",
    " </ul>"
   ]
  },
  {
   "cell_type": "markdown",
   "id": "62682959-7efb-4e15-a9ad-31c1b8f30e74",
   "metadata": {},
   "source": [
    "<img src=\"static/laserprinter.png\" style=\"width:500px;height:500px\">  "
   ]
  },
  {
   "cell_type": "markdown",
   "id": "0ab0c3f8-f59e-41fc-89cb-7e2f3f730494",
   "metadata": {},
   "source": [
    "<img src=\"static/inkjet.png\" style=\"width:700px;height:500px\">"
   ]
  },
  {
   "cell_type": "markdown",
   "id": "fb3a9d76-52c9-4d4c-bff5-97c46f267872",
   "metadata": {},
   "source": [
    "<img src=\"static/dotmatrix.png\" style=\"width:500px;height:500px\">"
   ]
  },
  {
   "cell_type": "markdown",
   "id": "be0f6136-bbc3-45b9-8c31-0270295fa789",
   "metadata": {},
   "source": [
    "<ul>\n",
    "    <li>\n",
    "    Each printer has advantages and disadvantages.\n",
    "    </li><li>\n",
    "    Laser printers are bad for high res images and for making copies.\n",
    "    </li><li>\n",
    "    Inkjet printers are good for high res prints but can smudge after printing.\n",
    "    </li><li>\n",
    "    Dot matrix printers are very low res and loud, but are great at making carbon copies and at functioning in dusty and dirty environments.\n",
    "    </li> \n",
    " </ul>"
   ]
  },
  {
   "cell_type": "markdown",
   "id": "2e117563-2039-4037-b927-39edddb1a20c",
   "metadata": {},
   "source": [
    "<span style=\"font-size: 30px\">Data Storage.</span>\n",
    "<hr>\n",
    "<ul>\n",
    "    <li>\n",
    "    Ram is a volatile, but very fast form of memory used to store the information and programs currently in use by the computer.\n",
    "    </li><li>\n",
    "    Secondary storage, is non-volatile, but much slower. It is used to store information and programs not in use.\n",
    "    </li><li>\n",
    "    Rom stores the BIOS, so that the computer knows what to first load into ram when turned on.\n",
    "    </li>\n",
    "</ul>"
   ]
  },
  {
   "cell_type": "code",
   "execution_count": null,
   "id": "7e58737a-a684-499d-9e6a-26f9773eed72",
   "metadata": {},
   "outputs": [],
   "source": []
  }
 ],
 "metadata": {
  "kernelspec": {
   "display_name": "Python 3 (ipykernel)",
   "language": "python",
   "name": "python3"
  },
  "language_info": {
   "codemirror_mode": {
    "name": "ipython",
    "version": 3
   },
   "file_extension": ".py",
   "mimetype": "text/x-python",
   "name": "python",
   "nbconvert_exporter": "python",
   "pygments_lexer": "ipython3",
   "version": "3.7.3"
  }
 },
 "nbformat": 4,
 "nbformat_minor": 5
}
