{
 "cells": [
  {
   "cell_type": "markdown",
   "id": "fb726b5e-49c3-484c-bce9-11274d46e3a9",
   "metadata": {},
   "source": [
    "<span style=\"font-size: 50px\">Binary Arithmetic</span><hr>\n"
   ]
  },
  {
   "cell_type": "markdown",
   "id": "995571ec-6d18-42a7-a921-2064ba965575",
   "metadata": {},
   "source": [
    "<ul><li> 0+0 = 0 </li><li> 0+1 || 1+0 = 1</li><li> 1+1 = 0 (carry the 1)</li><li>1+1 = 1 (carry the 1)</li>"
   ]
  },
  {
   "cell_type": "markdown",
   "id": "86a5ec25-6d2f-4b7f-bf1a-c52d97ad7801",
   "metadata": {},
   "source": [
    "<hr><span style=\"font-size:30px\">Overflows</span>\n",
    "<ul><li> When two numbers are added, sometimes, you do not have enough bits to represent the result.</li>\n",
    "    <li> This causes an overflow error, where a bit outside of the number is flipped. </li>\n",
    "    <li> Ex. 1101 + 0100 = 1 0001, where the leftmost bit is the error.</li>\n",
    "    <li> This can cause errors as the memory space that is meant to be taken by a different number is edited</li>\n",
    "    <li> Also, the result number is misrepresented as less than what it should be. </li></ul>\n",
    "<hr><span style=\"font-size:30px\">Representing negative numbers: sign + magnitude</span>\n",
    "<ul><li> One way of representing negative numbers is sign + magnitude notation. </li><li> This is where the leftmost bit represents the negative sign.</li> <li> Ex. -7 = 1 0111 = -0111 </li> </ul>\n",
    "<hr><span style=\"font-size:30px\">Representing negative numbers: two's complement</span>\n",
    "<ul><li> However, sign + magnitude is quite flawed. For example 10 and 00 are both 0</li><li> So instead, we use two's complement. </li><li> To convert a denary number to two's complement, find the positive binary number.</li><li> Then, flip all the bits and add one. </li> <li> Reverse this process to convert twos complement to denary. </li></ul>\n",
    "<hr><span style=\"font-size:30px\">Representing negative numbers: arithmetic with two's complement</span>\n",
    "<ul><li>A binary subtraction can be done easily in two's complemnt. By adding a negative number to a positive number, the result will be a subtraction.</li></ul>\n",
    "<hr><span style=\"font-size:30px\">Decimals: Fixed and floating point</span><ul>\n",
    "    <li> Fixed point numbers have a fixed decimal point, where each bit after the decimal point is worth half the last. </li><li>Ex. 7.25= 0111.01</li><li> However, in order to represent a wider range of numbers and with different accuracy, floating point is used.</li><li> Floating point in binary works like standard form in denary.</li> <li> A floating point binary number is made up of a mantissa and an exponent, both in two's complement.</li><li> The denary value of a floating point number is the manissa shifted expontent places left. </li>"
   ]
  },
  {
   "cell_type": "code",
   "execution_count": null,
   "id": "e57ff158-1f00-42db-a6d9-6d347867f7bd",
   "metadata": {},
   "outputs": [],
   "source": []
  }
 ],
 "metadata": {
  "kernelspec": {
   "display_name": "Python 3",
   "language": "python",
   "name": "python3"
  },
  "language_info": {
   "codemirror_mode": {
    "name": "ipython",
    "version": 3
   },
   "file_extension": ".py",
   "mimetype": "text/x-python",
   "name": "python",
   "nbconvert_exporter": "python",
   "pygments_lexer": "ipython3",
   "version": "3.6.11"
  }
 },
 "nbformat": 4,
 "nbformat_minor": 5
}
