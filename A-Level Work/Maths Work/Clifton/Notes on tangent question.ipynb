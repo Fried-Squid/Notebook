{
 "cells": [
  {
   "cell_type": "markdown",
   "id": "e896de87-fe7c-4bde-ac79-76cd7bc00c0f",
   "metadata": {},
   "source": [
    "<span style=\"font-size: 50px\">Feedback on baseline 2 question 2.</span>\n",
    "<hr>"
   ]
  },
  {
   "cell_type": "markdown",
   "id": "77f30a14-5778-41e5-8509-7f24b6b5d5ea",
   "metadata": {},
   "source": [
    "<img src=\"static/qu2.png\">"
   ]
  },
  {
   "cell_type": "markdown",
   "id": "978a42d6-482e-4b20-a3fe-aa3704d0a006",
   "metadata": {},
   "source": [
    "<span style=\"font-size: 30px\">Part one: The <i>$y-y_{1}=m(x-x_{1})$ </i> equation for straight lines</span>\n",
    "<hr>\n",
    "<img src=\"static/weirdeq.png\" >"
   ]
  },
  {
   "cell_type": "raw",
   "id": "958da238-4292-4989-b89e-901b1f019143",
   "metadata": {},
   "source": [
    "DO QUESTION AS A REVISION EXCERISE."
   ]
  },
  {
   "cell_type": "code",
   "execution_count": null,
   "id": "3366cafe-a0e0-423e-8770-2feb4b68c407",
   "metadata": {},
   "outputs": [],
   "source": []
  }
 ],
 "metadata": {
  "kernelspec": {
   "display_name": "Python 3 (ipykernel)",
   "language": "python",
   "name": "python3"
  },
  "language_info": {
   "codemirror_mode": {
    "name": "ipython",
    "version": 3
   },
   "file_extension": ".py",
   "mimetype": "text/x-python",
   "name": "python",
   "nbconvert_exporter": "python",
   "pygments_lexer": "ipython3",
   "version": "3.7.3"
  }
 },
 "nbformat": 4,
 "nbformat_minor": 5
}
