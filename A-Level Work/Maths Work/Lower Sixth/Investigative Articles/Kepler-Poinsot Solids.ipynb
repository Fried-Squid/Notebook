{
 "cells": [
  {
   "cell_type": "code",
   "execution_count": null,
   "id": "534e757f-d454-467b-996f-c3524f554ab3",
   "metadata": {},
   "outputs": [],
   "source": [
    "gonna do it on mathcha"
   ]
  },
  {
   "cell_type": "markdown",
   "id": "06ae2173-f0f0-427a-a51d-cc0b52da4427",
   "metadata": {},
   "source": [
    "ill put pdfs in here"
   ]
  }
 ],
 "metadata": {
  "kernelspec": {
   "display_name": "Python 3 (ipykernel)",
   "language": "python",
   "name": "python3"
  },
  "language_info": {
   "codemirror_mode": {
    "name": "ipython",
    "version": 3
   },
   "file_extension": ".py",
   "mimetype": "text/x-python",
   "name": "python",
   "nbconvert_exporter": "python",
   "pygments_lexer": "ipython3",
   "version": "3.7.3"
  }
 },
 "nbformat": 4,
 "nbformat_minor": 5
}
