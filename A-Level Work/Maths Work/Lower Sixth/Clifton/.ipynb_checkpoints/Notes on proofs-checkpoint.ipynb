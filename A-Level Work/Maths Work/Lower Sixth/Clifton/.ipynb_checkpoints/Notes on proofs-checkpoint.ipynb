{
 "cells": [
  {
   "cell_type": "markdown",
   "id": "4826a8e0-03b4-4d73-9a20-f7c9cbc0a4fb",
   "metadata": {},
   "source": [
    "$\\require{amssymb}$<span style=\"font-size: 50px\">Notes on proofs.</span>\n",
    "<hr>"
   ]
  },
  {
   "cell_type": "markdown",
   "id": "fc433f50-f31d-4f25-8642-10116b5704d9",
   "metadata": {},
   "source": [
    "<span style=\"font-size: 30px\">Basics.</span>\n",
    "<hr>\n",
    "<ul>\n",
    "    <li>\n",
    "    Proofs in maths must be rigorous.\n",
    "    </li><li>\n",
    "    Example: Prove the product of three consecutive odd numbers is also odd.\n",
    "    </li><ul>\n",
    "    <li> An even number can be defined as: $2n\\ \\ \\forall n,\\ n\\ \\in\\ \\mathbb{N}$ </li>\n",
    "    <li> Therefore an odd number can be defined as: $2n \\pm 1$ </li>\n",
    "    <li> Formula for the product of three consecutive odds: $(2n-1)(2n+1)(2n+3)$ </li>\n",
    "    <li> $\\therefore (4n^2)(2n+3)$ </li>\n",
    "    <li> $\\therefore 2(4n^3+6n^2-n)-3$  </li>\n",
    "    <li> $2(4n^3+6n^2-n)$ is equivalent to $2n\\ \\ \\forall n,\\ n\\ \\in\\ \\mathbb{N}$ and so is odd</li>\n",
    "    <li> $2n-3$ is odd as it is equivalent to $2n \\pm 1$</ul>\n",
    "    \n",
    "    \n",
    " </ul>\n",
    " "
   ]
  },
  {
   "cell_type": "code",
   "execution_count": null,
   "id": "8b1ae678-b75e-418b-bdcf-640094eb5789",
   "metadata": {},
   "outputs": [],
   "source": []
  }
 ],
 "metadata": {
  "kernelspec": {
   "display_name": "Python 3 (ipykernel)",
   "language": "python",
   "name": "python3"
  },
  "language_info": {
   "codemirror_mode": {
    "name": "ipython",
    "version": 3
   },
   "file_extension": ".py",
   "mimetype": "text/x-python",
   "name": "python",
   "nbconvert_exporter": "python",
   "pygments_lexer": "ipython3",
   "version": "3.7.3"
  }
 },
 "nbformat": 4,
 "nbformat_minor": 5
}
