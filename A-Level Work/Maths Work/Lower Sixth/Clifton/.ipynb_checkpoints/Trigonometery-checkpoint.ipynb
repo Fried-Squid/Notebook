{
 "cells": [
  {
   "cell_type": "markdown",
   "id": "3320b714-aaaf-4427-a241-92a0364113ae",
   "metadata": {},
   "source": [
    "<span style=\"font-size: 50px\">Trigonometery: From the ground up.</span>\n",
    "<hr>"
   ]
  },
  {
   "cell_type": "markdown",
   "id": "b32a039e-6738-47fd-b19c-2fdc097e5ff1",
   "metadata": {},
   "source": [
    "<span style=\"font-size: 30px\">Basics.</span>\n",
    "<hr>\n",
    "<ul>\n",
    "    <li>\n",
    "    Trig is defined as:<i> the study of the realtionships between the angles and lengths within a triangle. </i> (Expect lots of diagrams and LaTeX.)\n",
    "    </li><li>\n",
    "    Triangles can be solved from many combinations of angles and sides.\n",
    "    </li><ul>\n",
    "    <li> AAA - All AAA triangles are similar. </li>\n",
    "    <li> SSS - All SSS triangles are congruent. </li>\n",
    "    <li> SAS - All SAS triangles are congruent. </li>\n",
    "    <li> ASA - All ASA triangles are congruent. </li>\n",
    "    <li> RHS - All RHS triangles are congruent. Note: RHS means right angle, hypotenuse and side. </li></ul>\n",
    " </ul>\n",
    " "
   ]
  },
  {
   "cell_type": "markdown",
   "id": "678d3d40-0fba-41a9-8cb2-b9ed0bc9a88b",
   "metadata": {},
   "source": [
    "<span style=\"font-size: 30px\">Cosine Rule.</span>\n",
    "<hr>"
   ]
  },
  {
   "cell_type": "markdown",
   "id": "53450ff2-d604-4b60-bb53-8602ad38edb8",
   "metadata": {},
   "source": [
    "<img src=\"static/cosine_proof_triangle.png\">"
   ]
  },
  {
   "cell_type": "markdown",
   "id": "f8764bca-acba-48b4-8b0f-5826752e3bcd",
   "metadata": {},
   "source": [
    "<img src=\"static/cosine_proof.png\" >"
   ]
  },
  {
   "cell_type": "markdown",
   "id": "ce05d1a1-4da7-4f0a-8acc-98739a1b9c5d",
   "metadata": {},
   "source": [
    "<span style=\"font-size: 30px\">Sine Rule.</span>\n",
    "<hr>"
   ]
  },
  {
   "cell_type": "markdown",
   "id": "36899d7f-dc37-487a-8feb-f719cbeca3eb",
   "metadata": {},
   "source": [
    "<body style=\"font-size: 20px\">$ \\large{\\frac{{\\sin A}}{a} = \\frac{{\\sin B}}{b} = \\frac{{\\sin C}}{c}} $</body>"
   ]
  },
  {
   "cell_type": "markdown",
   "id": "67765b72-696c-4091-9191-d2f4abaff6e7",
   "metadata": {},
   "source": [
    "<span style=\"font-size: 20px\"><b> IMPORTANT </b></span>\n",
    "<ul><li>in ASS triangles, there are 2 possible solutions to the missing angle. See sine graph, and also construction:</li></ul>"
   ]
  },
  {
   "cell_type": "markdown",
   "id": "f3940bf0-04c2-455f-a43d-a112dffef5b7",
   "metadata": {},
   "source": [
    "<img src=\"static/sinerule.png\">"
   ]
  },
  {
   "cell_type": "markdown",
   "id": "082d2313-4e2d-4aab-aa89-75e261875161",
   "metadata": {},
   "source": [
    "<span  style=\"font-size:10px;\">(see 2 solutions on graph)</span>"
   ]
  },
  {
   "cell_type": "code",
   "execution_count": null,
   "id": "7379f07d-420b-448e-a8a4-f7edfec6c075",
   "metadata": {},
   "outputs": [],
   "source": [
    "TODO: ASS TRIANGLE CONSTRUCTION"
   ]
  }
 ],
 "metadata": {
  "kernelspec": {
   "display_name": "Python 3 (ipykernel)",
   "language": "python",
   "name": "python3"
  },
  "language_info": {
   "codemirror_mode": {
    "name": "ipython",
    "version": 3
   },
   "file_extension": ".py",
   "mimetype": "text/x-python",
   "name": "python",
   "nbconvert_exporter": "python",
   "pygments_lexer": "ipython3",
   "version": "3.7.3"
  }
 },
 "nbformat": 4,
 "nbformat_minor": 5
}
