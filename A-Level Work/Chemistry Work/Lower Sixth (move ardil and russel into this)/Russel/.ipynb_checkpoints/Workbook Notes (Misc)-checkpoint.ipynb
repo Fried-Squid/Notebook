{
 "cells": [
  {
   "cell_type": "markdown",
   "id": "7f1b2e32-e40f-4ed2-9270-6750f07c50ae",
   "metadata": {},
   "source": [
    "$$\\require{mhchem}$$<span style=\"font-size: 50px\">Various Misc Workbook Notes</span><hr>\n",
    "<span style=\"font-size:30px;\">Formulae</span>\n",
    "<ul>\n",
    "    <li>To create a formula of an element, you make the net charge of the equation 0. For example, a 3+ ion (x) reacts with 3 1- ions (y) to create $\\ce{XY_3}$, or 2 3+ ions (a) reacts with 3 2+ ions to make $\\ce{A_2B_3}$.</li><li>The charge on a transition metal is written in roman numerals next to it. E.g. Iron (III) Oxide is Iron$^{3+}$ + Oxygen, so $\\ce{Fe_2O_3}$.</li><li>Stoichiometry - the relationship between the relative quantities of substances taking part in a reaction or forming a compound, typically a ratio of whole integers.</li>\n",
    "    </ul>\n",
    "<hr><span style=\"font-size:30px;\">Equations</span>\n",
    "<ul><li>Acids are always aqueous.</li><li>Soluable bases are called alkalais.</li><li>There are general reactions we should know:</li><li><ul><li>Substace + Oxygen = Oxides</li><li>Metal + Water = Metal Hydroxide + Hydrogen</li><li>Metal + Acid = Salt + Hydrogen</li><li>Oxide + Acid = Salt + Water <a href=\"#section1\">[1]</a> </li><li>Hydroxide + Acid = Salt + Water</li><li>Carbonate + Acid = Salt + Water + Carbon dioxide</li><li>Hydrogencarbonate + Acid = Salt + Water + Carbon Dioxide</li><li>Ammonia + Acid = Ammonium Salt</li><li>Metal Carbonate = Metal Oxide + Carbon Dioxide (when heated) <a href=\"#section1\">[2]</a></li></ul></li><li>Nitrate salts are all soluable and therefore aqueous</li><li>Potassium salts are all soluable and therefore aqueous</li></ul>\n",
    "<hr><span style=\"font-size:30px;\">Moles</span>\n",
    "<ul><li> Mr. Mole -- $\\ce{M_r \\ = \\ Mass \\times Moles}$</li><li>Avogadros Constant - $6.022\\times 10^{23}$ - Number of atoms in 1 1/12 of a gram of carbon 12.</ul>\n",
    "<hr><span style=\"font-size:30px;\">Reacting Masses</span>\n",
    "<ul><li>Conservation of matter states: $\\sum \\ce{Mass\\ of\\ reactants} \\ = \\ \\sum \\ce{Mass\\ of\\ products}$</li><li>Example: <ol>\n",
    "    <li>$\\ce{CaCO_3 \\longrightarrow CaO \\ + \\ CO_2}$</li>\n",
    "    <li>$\\ce{CaCO_3 \\ (100\\ M_r) \\ \\longrightarrow CaO \\ (56\\ M_r) \\ + \\ CO_2\\ (44\\ M_r)}$</li>\n",
    "    <li>$\\therefore 1 \\ce{CaCO_3\\ =\\ \\frac{56}{100} CaO}$</li></ol></li></ul>\n",
    "<hr><span style=\"font-size:30px\">Finding the concentration of a solution</span>\n",
    "<ol>\n",
    "    <li>Find moles of solute: </li><br>\n",
    "    <li>$\\large{\\ce{Moles\\ =\\ \\frac{Mass\\ (g)}{M_r}}}$</li><br>\n",
    "    <li>Find concentration using formula: </li><br>\n",
    "    <li>$\\large{\\ce{Moles\\ =\\ Volume\\ (dm^3)\\ \\times\\ Concentration}}$</li><br>\n",
    "    <li>$\\large{\\ce{Moles\\ =\\ \\frac{Volume\\ (cm^3)}{1000}\\ \\times\\ Concentration}}$</li><br>\n",
    "    <li>$\\large{\\ce{Concentraion\\ =\\ \\frac{Moles\\ \\times\\ 1000}{Volume\\ (cm^3)}}}$</li><br>\n",
    "    <li>$\\large{\\ce{Concentraion\\ =\\ \\frac{\\frac{Mass\\ (g)}{M_r}\\ \\times\\ 1000}{Volume\\ (cm^3)}}}$</li>\n",
    "</ol>\n",
    "\n",
    "\n",
    "\n",
    "<hr><b>Footnotes</b><br>\n",
    "<p id=\"section1\">[1] Oxide + Acid through to Ammonia + Acid are all neutralisation reactions</p>\n",
    "<p id=\"section2\">[2] Thermal Decomposition of a metal carbonate</p>"
   ]
  },
  {
   "cell_type": "code",
   "execution_count": null,
   "id": "7671b045-ee52-4192-bf05-25dd47ac1bbf",
   "metadata": {},
   "outputs": [],
   "source": []
  }
 ],
 "metadata": {
  "kernelspec": {
   "display_name": "Python 3",
   "language": "python",
   "name": "python3"
  },
  "language_info": {
   "codemirror_mode": {
    "name": "ipython",
    "version": 3
   },
   "file_extension": ".py",
   "mimetype": "text/x-python",
   "name": "python",
   "nbconvert_exporter": "python",
   "pygments_lexer": "ipython3",
   "version": "3.9.2"
  }
 },
 "nbformat": 4,
 "nbformat_minor": 5
}
