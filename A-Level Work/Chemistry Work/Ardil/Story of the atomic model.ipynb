{
 "cells": [
  {
   "cell_type": "markdown",
   "id": "673654ed-350c-465b-8a76-2c8617e5574b",
   "metadata": {},
   "source": [
    "$$\\require{mhchem}$$<span style=\"font-size: 50px\">The story of the atomic model</span><hr>"
   ]
  },
  {
   "cell_type": "markdown",
   "id": "98c33f81-9753-4f00-9ef5-6545e95e81a8",
   "metadata": {},
   "source": [
    "<span style=\"font-size:30px;\">Democritus</span><ul>\n",
    "    <li>460BC, old white guy</li>\n",
    "    <li>Named what he belived was the smallest piece of matter the \"atom\"</li>\n",
    "    </ul><hr>\n",
    "<span style=\"font-size:30px;\">John Dalton</span><ul>\n",
    "    <li>1766-1844, old white guy</li>\n",
    "    <li>\"All matter is indivisible past atoms\"</li>\n",
    "    <li>same atoms = same element </li>\n",
    "    <li> Said that atoms have to be in whole numbers. </li>\n",
    "    </ul><hr>\n",
    "<span style=\"font-size:30px;\">J.J. Thomson</span><ul>\n",
    "    <li>1904, old white guy</li>\n",
    "    <li>Coined the plum pudding model</li>\n",
    "    <li>Discovered the electron through cathode ray experiments (he saw that cathode rays were deflected by electrons)</li>\n",
    "    <li>Thought the atoms were like plum puddings, with a positive pudding and negive plum electrons.</li>\n",
    "    </ul><hr>\n",
    "<span style=\"font-size:30px;\">Ernest Rutherford</span><ul>\n",
    "    <li>1932, old white guy</li>\n",
    "    <li>Geiger-Marsden experiment, fired $\\alpha$ particles at a thin gold leaf to show that there was a nucleus and orbiting electrons.</li>\n",
    "    <li>Some $\\alpha$ particles went through the gold leaf, some were midly deflected and very few came straight back as they hit the nucleus.</li>\n",
    "    <li>He, however, thought electrons just formed a negative cloud around the positive mass of the nucleus.</li>\n",
    "    </ul><hr>\n",
    "<span style=\"font-size:30px;\">Chadwick</span><ul>\n",
    "    <li>1932, old white guy</li>\n",
    "    <li>Did a complex experiment to prove that neutrons exist.</li>\n",
    "    <li>He fired $\\alpha$ particles from polonium at Beryillium, which emmited some unknown radiation. (this radiation was neutrons.)</li>\n",
    "    <li>The unknown radiation hit parrafin, which emmited protons, and they then recorded the speed of the protons.</li>\n",
    "    <li>They found that the protons had to be being hit by something that was as heavy as a proton, and also that the radiation was not affected by charge, so was neutral.</li>\n",
    "    <li>This means that the particle had to be both neutrally charged and has a rel. atomic mass of 1.</li>\n",
    "    </ul><hr>"
   ]
  },
  {
   "cell_type": "code",
   "execution_count": null,
   "id": "6bc7ebf1-ef4c-431d-867a-bd7962aa6e75",
   "metadata": {},
   "outputs": [],
   "source": []
  }
 ],
 "metadata": {
  "kernelspec": {
   "display_name": "Python 3 (ipykernel)",
   "language": "python",
   "name": "python3"
  },
  "language_info": {
   "codemirror_mode": {
    "name": "ipython",
    "version": 3
   },
   "file_extension": ".py",
   "mimetype": "text/x-python",
   "name": "python",
   "nbconvert_exporter": "python",
   "pygments_lexer": "ipython3",
   "version": "3.7.3"
  }
 },
 "nbformat": 4,
 "nbformat_minor": 5
}
