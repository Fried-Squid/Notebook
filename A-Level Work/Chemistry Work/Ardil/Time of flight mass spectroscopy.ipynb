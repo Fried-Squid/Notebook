{
 "cells": [
  {
   "cell_type": "markdown",
   "id": "931e7f57-9c5d-4087-8436-f4100aaf4b1f",
   "metadata": {},
   "source": [
    "$$\\require{mhchem}$$<span style=\"font-size: 50px\">Time of flight mass spectroscopy</span><hr>"
   ]
  },
  {
   "cell_type": "markdown",
   "id": "d537451d-75b5-4b18-b28b-54ed48d0e7f2",
   "metadata": {},
   "source": [
    "<span style=\"font-size: 30px\">Mass Spec.</span>\n",
    "<hr>\n",
    "<ul>\n",
    "    <li>\n",
    "    Mass Spectroscopy is used to find the atomic weight of an unknown substance, and to calculate relativ abundance of elements.</li><li> Time of flight mass spec: </li>\n",
    "    <ol>\n",
    "        <li>Samples are ionised, via either electron impact (part 1) or electrospray (part 2) which forms the ions.</li>\n",
    "        <li>Using charged plates, the ions are all given the same kinetic energy.</li>\n",
    "        <li>The time to travel the length of the drift tube is then used to calculate the mass.</li>\n",
    "    </ol>\n",
    " </ul>\n",
    " <span style=\"font-size: 30px\">Electron impact.</span>\n",
    "<hr>\n",
    "<ul>\n",
    "    <li>\n",
    "    Electrons bombard the gaseous sample to ionise it.</li><li> Steps: </li>\n",
    "    <ol>\n",
    "        <li>Sample is vaporised.</li>\n",
    "        <li>Sample propogates through the machine.</li>\n",
    "        <li>Electrons bombard the sample, knocking off electrons and causing the sample to becomee positive ions.</li>\n",
    "        <li>Sample passes through a thin slit between negative plates to accelerate them.</li><li> ADD DIAGRAM AS REVISION </li>\n",
    "    </ol><li> Equation: $\\ce{X + E^{-}\\longrightarrow X^+}$</li><li> Causes fragmentation. Best for low $\\ce{M_{r}}$ applications such as elements.</li>\n",
    " </ul>\n",
    "      <span style=\"font-size: 30px\">Electrospray.</span>\n",
    "<hr>\n",
    "<ul>\n",
    "    <li>\n",
    "    Protons are added the the dissolved sample.</li><li> Steps: </li>\n",
    "    <ol>\n",
    "        <li>Sample is dissolved in a volatile solvent.</li>\n",
    "        <li>Sample is pushed through a positively charged hypodermic needle.</li>\n",
    "        <li>Samples shoot out as a positively charged fine mist.</li>\n",
    "        <li>Sample passes through a thin slit between negative plates to accelerate them.</li><li> ADD DIAGRAM AS REVISION </li>\n",
    "    </ol><li> Equation: $\\ce{X + H^+\\longrightarrow XH^+}$</li><li>Does not cause fragmentation. Best for high $\\ce{M_{r}}$ applications such as proteins.</li>\n",
    " </ul>\n",
    "<span style=\"font-size: 30px\">Drift or Flight tube.</span>\n",
    "<hr>\n",
    "<ul>\n",
    "    <li>\n",
    "    The flight tube is the set distance that the ions fly through.</li><li> Lighter ions arrive at a detector first. The time it takes to travel the drift tube is used to find the mass, using:</li>\n",
    "    <li>$\\Large{\\ce{V}=\\sqrt{\\frac{2\\ce{KE}}{\\ce{M}}}}$<br></li>\n",
    "    <li>$\\Large{\\therefore \\ce{t}=\\ce{d} \\times \\sqrt{\\frac{2\\ce{KE}}{\\ce{M}}}}$<br></li>\n",
    "    <li> The more ions that hit the detector at a time, the higher the recorded current it. </li>\n",
    " </ul>"
   ]
  },
  {
   "cell_type": "markdown",
   "id": "cd822b27-5a33-4aae-9654-cad035906af8",
   "metadata": {},
   "source": [
    "<img src=\"static/mass_spec_tolulene.png\">"
   ]
  },
  {
   "cell_type": "markdown",
   "id": "348a9f66-3f41-4f5b-8d5c-f007250f687a",
   "metadata": {},
   "source": [
    "<span style=\"font-size: 30px\">Sketching a rough expected mass spectrogram.</span>\n",
    "<hr>\n",
    "<ul>\n",
    "    <li>\n",
    "    First, find all combinations for the isotopes of the element.</li><li> E.g. Chlorine, in a mix of 75% $\\ce{^35Cl}$ and 25% $\\ce{^37Cl}$:<br><br></li>\n",
    "    <ul><li>\n",
    "        $(\\ce{^35Cl}-\\ce{^35Cl})^+$ - $70m/z$ - $\\frac{9}{16}$ chance of occuring therefore $\\frac{9}{16}$ expected relative intensity<br><br>\n",
    "        </li>\n",
    "        <li>$(\\ce{^35Cl}-\\ce{^37Cl})^+$- $72m/z$ - $\\frac{3}{16}$ chance of occuring therefore $\\frac{3}{16}$ expected relative intensity<br><br></li>\n",
    "        <li>$(\\ce{^37Cl}-\\ce{^35Cl})^+$- $72m/z$ - $\\frac{3}{16}$ chance of occuring therefore $\\frac{3}{16}$ expected relative intensity<br><br></li> \n",
    "        <li>$(\\ce{^37Cl}-\\ce{^37Cl})^+$- $74m/z$ - $\\frac{1}{16}$ chance of occuring therefore $\\frac{1}{16}$ expected relative intensity<br><br></li></ul>\n",
    "    <li> However, $(\\ce{^35Cl}-\\ce{^37Cl})^+$ and $(\\ce{^37Cl}-\\ce{^35Cl})^+$ have the same m/z ratio, so their relative intensitys are both at the $72m/z$ peak on the diagram, so are added together</li>\n",
    "    <li> Therefore the expected peaks are: <br><br></li><ul>\n",
    "    <li> $\\frac{9}{16}$ at  $70m/z$ <br><br></li>\n",
    "    <li> $\\frac{6}{16}$ at  $72m/z$ <br><br></li>\n",
    "    <li> $\\frac{1}{16}$ at  $74m/z$ <br><br></li>\n",
    " </ul>"
   ]
  },
  {
   "cell_type": "code",
   "execution_count": null,
   "id": "6d43d131-ab78-4775-b13a-89c2c51d4f21",
   "metadata": {},
   "outputs": [],
   "source": []
  }
 ],
 "metadata": {
  "kernelspec": {
   "display_name": "Python 3 (ipykernel)",
   "language": "python",
   "name": "python3"
  },
  "language_info": {
   "codemirror_mode": {
    "name": "ipython",
    "version": 3
   },
   "file_extension": ".py",
   "mimetype": "text/x-python",
   "name": "python",
   "nbconvert_exporter": "python",
   "pygments_lexer": "ipython3",
   "version": "3.7.3"
  }
 },
 "nbformat": 4,
 "nbformat_minor": 5
}
