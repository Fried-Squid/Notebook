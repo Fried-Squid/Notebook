{
 "cells": [
  {
   "cell_type": "markdown",
   "id": "931e7f57-9c5d-4087-8436-f4100aaf4b1f",
   "metadata": {},
   "source": [
    "$$\\require{mhchem}$$<span style=\"font-size: 50px\">Time of flight mass spectroscopy</span><hr>"
   ]
  },
  {
   "cell_type": "markdown",
   "id": "d537451d-75b5-4b18-b28b-54ed48d0e7f2",
   "metadata": {},
   "source": [
    "<span style=\"font-size: 30px\">Mass Spec.</span> \n",
    "<hr>\n",
    "<ul>\n",
    "    <li>\n",
    "    Mass Spectroscopy is used to find the atomic weight of an unknown substance, and to calculate relativ abundance of elements.</li><li> Time of flight mass spec: </li>\n",
    "    <ol>\n",
    "        <li>Samples are ionised, via either electron impact (part 1) or electrospray (part 2) which forms the ions.</li>\n",
    "        <li>Using charged plates, the ions are all given the same kinetic energy.</li>\n",
    "        <li>The time to travel the length of the drift tube is then used to calculate the mass.</li>\n",
    "       \n",
    "    </ol> <li>Mass spec only works because lighter ions will travel faster, and therefore have a lower time of flight.</li>\n",
    " </ul>\n",
    " <span style=\"font-size: 30px\">Electron impact.</span>\n",
    "<hr>\n",
    "<ul>\n",
    "    <li>\n",
    "    Electrons bombard the gaseous sample to ionise it.</li><li> Steps: </li>\n",
    "    <ol>\n",
    "        <li>Sample is vaporised.</li>\n",
    "        <li>Sample propogates through the machine.</li>\n",
    "        <li>Electrons bombard the sample, knocking off electrons and causing the sample to becomee positive ions.</li>\n",
    "        <li>Sample passes through a thin slit between negative plates to accelerate them.</li>\n",
    "    </ol><li> Equation: $\\ce{X_{(g)}\\longrightarrow X^+ + E^{-}}$  \n",
    "    </li><li> Causes fragmentation. Best for low $\\ce{M_{r}}$ applications such as elements.</li><li><img src=\"static/E-impact.png\"></li>\n",
    " </ul>\n",
    "      <span style=\"font-size: 30px\">Electrospray.</span>\n",
    "<hr>\n",
    "<ul>\n",
    "    <li>\n",
    "    Protons are added the the dissolved sample.</li><li> Steps: </li>\n",
    "    <ol>\n",
    "        <li>Sample is dissolved in a volatile solvent.</li>\n",
    "        <li>Sample is pushed through a positively charged hypodermic needle.</li>\n",
    "        <li>Samples shoot out as a positively charged fine mist.</li>\n",
    "        <li>Sample passes through a thin slit between negative plates to accelerate them.</li>\n",
    "    </ol><li> Equation: $\\ce{X_{(aq)} + H^+\\longrightarrow XH^+}$</li><li>Does not cause fragmentation. Best for high $\\ce{M_{r}}$ applications such as proteins.</li><li><img src=\"static/electrospray.png\"></li>\n",
    " </ul>\n",
    "<span style=\"font-size: 30px\">Drift or Flight tube.</span>\n",
    "<hr>\n",
    "<ul>\n",
    "    <li>\n",
    "    The flight tube is the set distance that the ions fly through.</li><li> Lighter ions arrive at a detector first. The time it takes to travel the drift tube is used to find the mass, using:</li>\n",
    "    <li>$\\Large{\\ce{V}=\\sqrt{\\frac{2\\ce{KE}}{\\ce{M}}}}$<br></li>\n",
    "    <li>$\\Large{\\therefore \\ce{t}=\\ce{d} \\times \\sqrt{\\frac{2\\ce{KE}}{\\ce{M}}}}$<br></li>\n",
    "    <li> The more ions that hit the detector at a time, the higher the recorded current it. </li>\n",
    "    <li><img src=\"https://d1ymz67w5raq8g.cloudfront.net/Pictures/480xAny/7/5/2/111752_feature-modern-mass-spectrometry-p79-fig-1-350_tcm18-179392.jpg\"></li>\n",
    " </ul>"
   ]
  },
  {
   "cell_type": "markdown",
   "id": "cd822b27-5a33-4aae-9654-cad035906af8",
   "metadata": {},
   "source": [
    "<span style=\"font-size: 30px\">Example spectrogram (electron impact)</span>\n",
    "<hr>\n",
    "<img src=\"static/mass_spec_tolulene.png\">\n",
    "<ul><li>Note the M+1 peak. This is caused by presence of deutrium and carbon 13 in the molecule. The abundance of deutrium and carbon 13 is very low, so not many of the atoms are those isotopes, so it is very small</li><li>Also note that the X axis is M/Z not Mass, as it is the mass to charge ratio. This is because something with 2x the charge will have more kinetic energy than something with 1x the charge, so that has to be accounted for.</li></ul>"
   ]
  },
  {
   "cell_type": "markdown",
   "id": "348a9f66-3f41-4f5b-8d5c-f007250f687a",
   "metadata": {},
   "source": [
    "<span style=\"font-size: 30px\">Sketching a rough expected mass spectrogram.</span>\n",
    "<hr>\n",
    "<ul>\n",
    "    <li>\n",
    "    First, find all combinations for the isotopes of the element.</li><li> E.g. Chlorine, in a mix of 75% $\\ce{^35Cl}$ and 25% $\\ce{^37Cl}$:<br><br></li>\n",
    "    <ul><li>\n",
    "        $(\\ce{^35Cl}-\\ce{^35Cl})^+$ - $70m/z$ - $\\frac{9}{16}$ chance of occuring therefore $\\frac{9}{16}$ expected relative intensity<br><br>\n",
    "        </li>\n",
    "        <li>$(\\ce{^35Cl}-\\ce{^37Cl})^+$- $72m/z$ - $\\frac{3}{16}$ chance of occuring therefore $\\frac{3}{16}$ expected relative intensity<br><br></li>\n",
    "        <li>$(\\ce{^37Cl}-\\ce{^35Cl})^+$- $72m/z$ - $\\frac{3}{16}$ chance of occuring therefore $\\frac{3}{16}$ expected relative intensity<br><br></li> \n",
    "        <li>$(\\ce{^37Cl}-\\ce{^37Cl})^+$- $74m/z$ - $\\frac{1}{16}$ chance of occuring therefore $\\frac{1}{16}$ expected relative intensity<br><br></li></ul>\n",
    "    <li> However, $(\\ce{^35Cl}-\\ce{^37Cl})^+$ and $(\\ce{^37Cl}-\\ce{^35Cl})^+$ have the same m/z ratio, so their relative intensitys are both at the $72m/z$ peak on the diagram, so are added together</li>\n",
    "    <li> Therefore the expected peaks are: <br><br></li><ul>\n",
    "    <li> $\\frac{9}{16}$ at  $70m/z$ <br><br></li>\n",
    "    <li> $\\frac{6}{16}$ at  $72m/z$ <br><br></li>\n",
    "    <li> $\\frac{1}{16}$ at  $74m/z$ <br><br></li>\n",
    " </ul>\n",
    " <span style=\"font-size: 30px\">Example mass spec questions + answers. ($L = 6.022\\times 10^{23}$)</span>\n",
    "<hr>\n",
    "    <ul><li>Given that the time of flight of $\\ce{^{23}Na^+}$ ions is $1.58\\times 10^-5$ and the flight tube length was 2m, find the kinetic energy of the ions.</li><li><details> <summary>Answer</summary>$\\large{KE=\\frac{1}{2}\\times MV^2}$<br><br>$\\large{\\therefore KE=\\frac{1}{2}\\times M(\\frac{d}{t})^2}$<br><br>$\\large{\\therefore KE=\\frac{1}{2}\\times \\frac{23}{\\frac{L}{1000}} \\times \\frac{2}{1.58x10^{-5}}}$<br><br>$\\large{\\therefore KE=2.417 \\times 10^{-18}}$</details></li><li>Sketch the spectrogram for $\\ce{Cl_2}$</li><li><details><summary>Answer</summary><img src=\"https://webbook.nist.gov/cgi/cbook.cgi?Spec=C7782505&Index=0&Type=Mass&Large=on\"></details></li></ul>"
   ]
  },
  {
   "cell_type": "raw",
   "id": "1882930f-235f-4b9d-a0fb-51aba9c67041",
   "metadata": {},
   "source": [
    "TODO: MORE QUESTIONS"
   ]
  },
  {
   "cell_type": "markdown",
   "id": "a2737902-eb38-42ab-abdc-9bb92473be64",
   "metadata": {},
   "source": [
    "ADD $\\ce{CCl_2Br_2}$ graph"
   ]
  },
  {
   "cell_type": "code",
   "execution_count": null,
   "id": "d1d23375-84b9-4fe4-b894-67e778c754e5",
   "metadata": {},
   "outputs": [],
   "source": []
  }
 ],
 "metadata": {
  "kernelspec": {
   "display_name": "Python 3 (ipykernel)",
   "language": "python",
   "name": "python3"
  },
  "language_info": {
   "codemirror_mode": {
    "name": "ipython",
    "version": 3
   },
   "file_extension": ".py",
   "mimetype": "text/x-python",
   "name": "python",
   "nbconvert_exporter": "python",
   "pygments_lexer": "ipython3",
   "version": "3.7.3"
  }
 },
 "nbformat": 4,
 "nbformat_minor": 5
}
