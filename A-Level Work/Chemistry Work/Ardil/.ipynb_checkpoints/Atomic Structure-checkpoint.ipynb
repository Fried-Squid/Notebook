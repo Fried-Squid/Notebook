{
 "cells": [
  {
   "cell_type": "markdown",
   "id": "ab034268-d4cc-47cb-8c63-798e7e57c9ff",
   "metadata": {},
   "source": [
    "$$\\require{mhchem}$$<span style=\"font-size: 50px\">Atomic Structure</span><hr>"
   ]
  },
  {
   "cell_type": "markdown",
   "id": "3b7b769f-cbb3-435e-84bf-3ca7b3fcd71e",
   "metadata": {},
   "source": [
    "$\\huge{\\ce{^{X}_{Y}Z+}}$<ul><li>X - Mass number - number of protons and neutrons. In the periodic table this is calculated with relative abundance.</li>\n",
    "    <li>Y - Atomic number - amount of protons in the nucleus.</li><li>Z - Symbol of element - Represents which element it is.</li><li>The +/- denotes charge.</li></ul>"
   ]
  },
  {
   "cell_type": "markdown",
   "id": "438d5094-0833-413c-856e-dd5f7bbe7445",
   "metadata": {},
   "source": [
    "<ul><li>$\\huge{\\ce{^{16}_{8}O^{2-}}}$<br>\n",
    "    The neutral Oxygen has gained 2 electrons to ionise.</li><ul>"
   ]
  },
  {
   "cell_type": "markdown",
   "id": "ca5f6889-d92a-4a2c-84d3-bbd0890ee95e",
   "metadata": {},
   "source": [
    "<ul><li>$\\huge{\\ce{Na^+}}$<br>\n",
    "    The neutral Sodium has lost 1 electron to ionise.</li><ul>"
   ]
  },
  {
   "cell_type": "markdown",
   "id": "64eda28f-fe96-4a8d-956b-131b67b74691",
   "metadata": {},
   "source": [
    "<ul><li>$\\huge{\\ce{^{16}_{8}O}}\\space and \\space \\huge{\\ce{^{17}_{8}O}}$<br>\n",
    "    These are two isotopes of oxygen. They are both oxygen, but one has more neutrons. They have the same chemical properties but different physical properties.</li><ul>"
   ]
  },
  {
   "cell_type": "markdown",
   "id": "0cb2265f-91a6-486d-ae5b-174eddec53ec",
   "metadata": {},
   "source": [
    "<ul><li>$\\huge{\\ce{^{1}_{1}H}}\\space -\\space \\ce{Protium}$<br><br></li><li>$\\huge{\\ce{^{2}_{1}H}}\\space -\\space \\ce{Deutrium}$<br><br></li><li>$\\huge{\\ce{^{3}_{1}H}}\\space -\\space \\ce{Tritium}$<br><br></li><ul>"
   ]
  },
  {
   "cell_type": "markdown",
   "id": "f843d20b-5c42-4d64-9f11-1a188ed7841f",
   "metadata": {},
   "source": [
    "<hr><span style=\"font-size:30px;\">Relative Abundance (prepare for bad LaTeX)</span><ul>\n",
    "    <li>The mass number of an element on the periodic table is actually the relative abundance calculation.<br></li>\n",
    "    <li>$\\Large{A_r = \\frac{\\sum (\\ce{percent\\space abundance}\\space \\times \\space \\ce{mass\\space number})}{100}}$</li>\n",
    "    <li>Or the quick way:<br></li>\n",
    "    <li>$\\Large{A_r = \\sum \\left(\\frac{\\ce{percent\\space abundance}}{100} \\times\\space \\ce{mass\\space number}\\right)}$</li>\n",
    "    <li>Example:<br></li>\n",
    "    <li>$\\Large{24.32 = \\frac{79}{100} \\ \\times 24+\\frac{10}{100} \\ \\times 25\\ +\\frac{11}{100} \\ \\times 26}$</li>\n",
    "    </ul>"
   ]
  }
 ],
 "metadata": {
  "kernelspec": {
   "display_name": "Python 3 (ipykernel)",
   "language": "python",
   "name": "python3"
  },
  "language_info": {
   "codemirror_mode": {
    "name": "ipython",
    "version": 3
   },
   "file_extension": ".py",
   "mimetype": "text/x-python",
   "name": "python",
   "nbconvert_exporter": "python",
   "pygments_lexer": "ipython3",
   "version": "3.7.3"
  }
 },
 "nbformat": 4,
 "nbformat_minor": 5
}
