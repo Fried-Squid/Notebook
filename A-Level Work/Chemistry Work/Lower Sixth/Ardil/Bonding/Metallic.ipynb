{
 "cells": [
  {
   "cell_type": "markdown",
   "id": "1caf28ef-ab17-464b-b079-ca859c596afd",
   "metadata": {},
   "source": [
    "$$\\require{mhchem}$$<span style=\"font-size: 50px\">Metallic Bonding</span><hr>"
   ]
  },
  {
   "cell_type": "markdown",
   "id": "d9216af5-3868-4260-89ac-e3c961dd0464",
   "metadata": {},
   "source": [
    "<ul><li>Defined as the \"Net attraction between cations and delocalised outer electrons.\"</li>\n",
    "    <li>Lots of delocalised electrons, so generally very good conductors</li>\n",
    "    <li>Malleable as layers slide over eachother</li>\n",
    "    <li>High melting and boiling points</li>\n",
    "    <li>Sonorous, strong, dense, shiny and ductile.</li>\n",
    "    <img src=\"static/metal\"> todo: image\n",
    "    <li>As layers slide over eachother, the electrons fill the gaps and reform the bonds.<li>\n",
    "</ul>"
   ]
  }
 ],
 "metadata": {
  "kernelspec": {
   "display_name": "Python 3",
   "language": "python",
   "name": "python3"
  },
  "language_info": {
   "codemirror_mode": {
    "name": "ipython",
    "version": 3
   },
   "file_extension": ".py",
   "mimetype": "text/x-python",
   "name": "python",
   "nbconvert_exporter": "python",
   "pygments_lexer": "ipython3",
   "version": "3.6.11"
  }
 },
 "nbformat": 4,
 "nbformat_minor": 5
}
