{
 "cells": [
  {
   "cell_type": "markdown",
   "id": "a90d2072-cad1-4677-a7f4-9d4d0da72742",
   "metadata": {},
   "source": [
    "$$\\require{mhchem}$$<span style=\"font-size: 50px\">VSEPR Theory</span><hr>"
   ]
  },
  {
   "cell_type": "markdown",
   "id": "5950009e-9bf1-4800-82a3-437569149490",
   "metadata": {},
   "source": [
    "<ul>\n",
    "    <li> VSEPR Theory, or Valence Shell Electron Pair Repulsion Theory, predicts the shape of molecules using electron pairs </li>\n",
    "    <li> Electron pairs are negative (see electronegativity) so repel eachother</li>\n",
    "    <li> The shape of a molecule maximises the distance between electron pairs to minimise repulsion.</li>\n",
    "</ul>\n",
    "<span style=\"font-size:20px\">AXE Notation </span>\n",
    "<ul>\n",
    "    <li>A - Central Atom. This atom is usally the one that makes the most bonds.</li>\n",
    "</ul>"
   ]
  }
 ],
 "metadata": {
  "kernelspec": {
   "display_name": "Python 3",
   "language": "python",
   "name": "python3"
  },
  "language_info": {
   "codemirror_mode": {
    "name": "ipython",
    "version": 3
   },
   "file_extension": ".py",
   "mimetype": "text/x-python",
   "name": "python",
   "nbconvert_exporter": "python",
   "pygments_lexer": "ipython3",
   "version": "3.6.11"
  }
 },
 "nbformat": 4,
 "nbformat_minor": 5
}
