{
 "cells": [
  {
   "cell_type": "markdown",
   "id": "046121c2-ec80-4430-9c04-0abbab4572c7",
   "metadata": {},
   "source": [
    "$$\\require{mhchem}$$<span style=\"font-size: 50px\">Covalent Bonding</span><hr>"
   ]
  },
  {
   "cell_type": "markdown",
   "id": "afda62af-ca8b-4ace-ad88-e45cf3447dd6",
   "metadata": {},
   "source": [
    "<ul>\n",
    "    <li><b>Shared pair</b> of electrons between 2 nonmetals.</li>\n",
    "    <li>1 pair = 1 bond</li>\n",
    "    <li>2 pairs = 2 bonds = double bond</li>\n",
    "    <li>Can be represented via dot cross diagrams:</li>\n",
    "    <img src=\"static/H2 DOTCROSS.png\">\n",
    "    <img src=\"static/O2 DOTCROSS.png\">\n",
    "    <li>Or as a structure diagram:</li>\n",
    "    <img src=\"static/H2.png\">\n",
    "    <img src=\"static/O2.png\">\n",
    "    <li>Iodine atoms are held together by weak IMFs:</li>\n",
    "    <img src=\"static/imfs vs cov.png\">\n",
    "</ul>"
   ]
  },
  {
   "cell_type": "markdown",
   "id": "424f1360-44a8-4d7d-82e5-8bbc37cd6aab",
   "metadata": {},
   "source": [
    "<span style=\"font-size: 30px\">Dative Bonds</span>  (damn why the bonds indicating the recipient or beneficiary of an action)\n",
    "<hr>\n",
    "<ul>\n",
    "    <li>Both electrons in the shared pair arre supplied by one element in a dative bond.</li>\n",
    "    <li> For example: </li>\n",
    "    <img src=\"static/rsz_dative_ex1.png\"><br>\n",
    "    <img src=\"static/rsz_dative_ex2.png\">\n",
    "    <li> The arrow denotes the nitrogen giving its 2 electons to the <b>electon deficient</b> hydrogen </li>\n",
    "    <li> Electon deficient means that the element is missing 2 electrons in its outer shell, so it can form a dative bond with another atom. </li>\n",
    "    <li> Another example because fuck you </li>\n",
    "    <img src=\"static/NH3BF3.png\">\n",
    "</ul>"
   ]
  },
  {
   "cell_type": "markdown",
   "id": "a15dcbec-b67b-4dd5-a1fe-9dabfa660056",
   "metadata": {},
   "source": [
    "<span style=\"font-size: 30px\">Dimers</span>\n",
    "<hr>\n",
    "<ul>\n",
    "    <li>A dimer is a molecule joined together using 2 dative bonds.</li>\n",
    "    <img src=\"static/AlCl3AlCl3\">  todo: image\n",
    "    <li>todo: more dimer notes?</li>\n",
    "</ul>"
   ]
  },
  {
   "cell_type": "markdown",
   "id": "0da86668-fbc0-428b-9535-c2ac85c391aa",
   "metadata": {},
   "source": [
    "<span style=\"font-size: 30px\">Simple Molecular Bonding</span> \n",
    "<hr>\n",
    "<ul>\n",
    "    <li>Both atoms contribute one electron.</li>\n",
    "    <li>Small covalently bonded molecules with a fixed molecular formula.</li>\n",
    "    <li>Low melting and boiling points as only weak I.M.F.s need to be overcome in order to change state.</li>\n",
    "    <li>Non-conductive as all electrons are localised, so charge cannot be carried around.</li>\n",
    "    <img src=\"static/H2O_melt\"> todo: image\n",
    "</ul><span style=\"font-size: 15px\">Ex. Bucky Balls (buckmininsterfullerene)</span> <ul>\n",
    "    <img src=\"static/balls\"> todo: image\n",
    "    <li>Molecular Formula: $\\ce{C_{60}}$</li>\n",
    "    <li>Each carbon in a buckmininsterfullerene makes 2 single bonds and one double bond.</li>\n",
    "    <li>Low melting and boiling points as weak IMFs to be broken.</li>\n",
    "    <li>All electrons are localised, so it does not conduct electricity.</li>\n",
    "</ul>"
   ]
  },
  {
   "cell_type": "markdown",
   "id": "e695cfad-4bfc-49a1-9e55-2f861246ee36",
   "metadata": {},
   "source": [
    "<span style=\"font-size: 30px\">Macromolecular Covalent Molecules / Giant Covalent</span> \n",
    "<hr>\n",
    "<ul>\n",
    "    <li>Repeated lattice structure, meaning there is no fixed formula for the molecule.</li>\n",
    "    <li>Empirical formula used, instead of molecular formula is used.</li>\n",
    "    <li>High melting/boiling point as there are no IMFs to be broken, only stronger covalent bonds to be broken. This takes much more energy than breaking IMFs so the melting and boiling point is much higher.</li>\n",
    "    <li>Insoluable in water for some reason</li>\n",
    "</ul><span style=\"font-size: 15px\">Ex. Diamond</span> <ul>\n",
    "    <img src=\"static/diamond\"> todo: image\n",
    "    <li>Empirical Formula: $\\ce{C}$</li>\n",
    "    <li>Each carbon in diamond makes 4 bonds.</li>\n",
    "    <li>Hard, strong and high melting and boiling points as there are lots of strong covalent bonds</li>\n",
    "    <li>All electrons are localised, so it does not conduct electricity.</li>\n",
    "</ul><span style=\"font-size: 15px\">Ex. Graphite</span> <ul>\n",
    "    <img src=\"static/graphite\"> todo: image\n",
    "    <li>Empirical Formula: $\\ce{C}$</li>\n",
    "    <li>Each carbon in graphite makes 3 bonds.</li>\n",
    "    <li>Malleable as the flat layers of graphene can slide over eachother</li>\n",
    "    <li>Not electrons are localised, as each carbon only makes 3 bonds, leaving one free delocalised electron. Therefore, it does conduct electricity.</li>\n",
    "    <li>High melting and boiling point as there are lots of covalent bonds. However, other macromolecular structures have more covalent bonds, so the melting and boiling points are lower than, for example, diamond.</li>\n",
    "    <li>Can be used as a lubricant (which apparently we need to know)</li>\n",
    "</ul><span style=\"font-size: 15px\">Ex. Graphene</span> <ul>\n",
    "    <img src=\"static/graphene\"> todo: image\n",
    "    <li>Empirical Formula: $\\ce{C}$</li>\n",
    "    <li>Each carbon in graphene makes 3 bonds.</li>\n",
    "    <li>Hard, strong and high melting and boiling points as there are lots of strong covalent bonds</li>\n",
    "    <li>Just one layer of a graphite molecule. Structure is a hexagonal plane tiling.</li>\n",
    "    <li>Single atom thickness</li>\n",
    "</ul>"
   ]
  },
  {
   "cell_type": "code",
   "execution_count": null,
   "id": "7df1d460-a3ba-4559-8904-bddc629f5087",
   "metadata": {},
   "outputs": [],
   "source": []
  }
 ],
 "metadata": {
  "kernelspec": {
   "display_name": "Python 3",
   "language": "python",
   "name": "python3"
  },
  "language_info": {
   "codemirror_mode": {
    "name": "ipython",
    "version": 3
   },
   "file_extension": ".py",
   "mimetype": "text/x-python",
   "name": "python",
   "nbconvert_exporter": "python",
   "pygments_lexer": "ipython3",
   "version": "3.6.11"
  }
 },
 "nbformat": 4,
 "nbformat_minor": 5
}
