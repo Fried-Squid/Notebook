{
 "cells": [
  {
   "cell_type": "markdown",
   "id": "1177a393-dae0-4a94-b3f6-e87d197cc348",
   "metadata": {},
   "source": [
    "$$\\require{mhchem}$$<span style=\"font-size: 50px\">Bonding</span><hr>"
   ]
  },
  {
   "cell_type": "markdown",
   "id": "e7cab248-975d-4e3f-b4f6-3e4924956e02",
   "metadata": {},
   "source": [
    "<span style=\"font-size: 30px\">Ionic Bonding</span> \n",
    "<hr>\n",
    "<ul>\n",
    "    <li>\n",
    "        Ionic bonding is defined as \"The net electrostatic attraction between oppositely charged ions in a 3D lattice <li>(lattice meaning a repeated shape)</li><li>Group 1-3 metals make $\\ce{1^+}$, $\\ce{2^+}$ and $\\ce{3^+}$ as they loose all of the outer shell electrons to have an electronic structure that is isoelectronic with the nearest noble gas.</li>\n",
    "    <li>Group 5-7 nonmetals form $\\ce{1^-}$, $\\ce{2^-}$ and $\\ce{3^-}$ as they gain electrons to become isoelectronic with the nearest noble gas.</li><li> Group 4 elements do not form 4+ ions as there is a very large amount of energy required to remove 4 electons is very high, as the charge on the ion increases after each ionisation, increasing the energy required to remove another electron.</li><li>$\\ce{X\\longrightarrow X^+ + e^-}$ ,$\\ce{X^+\\longrightarrow X^2+ + e^-}$ etc</li><li>They also do not form $\\ce{4^-}$ ions as the repulsive forces would be too strong.</li><li> Some low down group 4 elements form $\\ce{2^+}$ ions such as $\\ce{Sn^{2+}}$\n",
    "</ul>"
   ]
  },
  {
   "cell_type": "code",
   "execution_count": null,
   "id": "c464acd3-305c-4789-abd0-488224283c5e",
   "metadata": {},
   "outputs": [],
   "source": []
  },
  {
   "cell_type": "code",
   "execution_count": null,
   "id": "eea3a744-05b3-4559-8226-f4c7f7875bf8",
   "metadata": {},
   "outputs": [],
   "source": []
  }
 ],
 "metadata": {
  "kernelspec": {
   "display_name": "Python 3",
   "language": "python",
   "name": "python3"
  },
  "language_info": {
   "codemirror_mode": {
    "name": "ipython",
    "version": 3
   },
   "file_extension": ".py",
   "mimetype": "text/x-python",
   "name": "python",
   "nbconvert_exporter": "python",
   "pygments_lexer": "ipython3",
   "version": "3.6.11"
  }
 },
 "nbformat": 4,
 "nbformat_minor": 5
}
