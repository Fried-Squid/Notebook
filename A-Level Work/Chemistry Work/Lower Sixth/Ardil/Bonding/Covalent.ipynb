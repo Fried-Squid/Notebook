{
 "cells": [
  {
   "cell_type": "markdown",
   "id": "046121c2-ec80-4430-9c04-0abbab4572c7",
   "metadata": {},
   "source": [
    "$$\\require{mhchem}$$<span style=\"font-size: 50px\">Covalent Bonding</span><hr>"
   ]
  },
  {
   "cell_type": "markdown",
   "id": "afda62af-ca8b-4ace-ad88-e45cf3447dd6",
   "metadata": {},
   "source": [
    "<ul>\n",
    "    <li><b>Shared pair</b> of electrons between 2 nonmetals.</li>\n",
    "    <li>1 pair = 1 bond</li>\n",
    "    <li>2 pairs = 2 bonds = double bond</li>\n",
    "    <li>Can be represented via dot cross diagrams:</li>\n",
    "    <img src=\"static/H2 DOTCROSS.png\">\n",
    "    <img src=\"static/O2 DOTCROSS.png\">\n",
    "    <li>Or as a structure diagram:</li>\n",
    "    <img src=\"static/H2.png\">\n",
    "    <img src=\"static/O2.png\">\n",
    "    <li>Iodine atoms are held together by weak IMFs:</li>\n",
    "    <img src=\"static/imfs vs cov.png\">\n",
    "</ul>"
   ]
  },
  {
   "cell_type": "markdown",
   "id": "424f1360-44a8-4d7d-82e5-8bbc37cd6aab",
   "metadata": {},
   "source": [
    "<span style=\"font-size: 30px\">Dative Bonds</span>  (damn why the bonds indicating the recipient or beneficiary of an action)\n",
    "<hr>\n",
    "<ul>\n",
    "    <li>Both electrons in the shared pair arre supplied by one element in a dative bond.</li>\n",
    "    <li> For example: </li>\n",
    "    <img src=\"static/rsz_dative_ex1.png\"><br>\n",
    "    <img src=\"static/rsz_dative_ex2.png\">\n",
    "    <li> The arrow denotes the nitrogen giving its 2 electons to the <b>electon deficient</b> hydrogen </li>\n",
    "    <li> Electon deficient means that the element is missing 2 electrons in its outer shell, so it can form a dative bond with another atom. </li>\n",
    "    <li> Another example because fuck you </li>\n",
    "    <img src=\"static/NH3BF3.png\">\n",
    "</ul>"
   ]
  },
  {
   "cell_type": "code",
   "execution_count": null,
   "id": "fba06ddd-94f1-4f1a-bedb-26f51a06eddd",
   "metadata": {},
   "outputs": [],
   "source": []
  }
 ],
 "metadata": {
  "kernelspec": {
   "display_name": "Python 3 (ipykernel)",
   "language": "python",
   "name": "python3"
  },
  "language_info": {
   "codemirror_mode": {
    "name": "ipython",
    "version": 3
   },
   "file_extension": ".py",
   "mimetype": "text/x-python",
   "name": "python",
   "nbconvert_exporter": "python",
   "pygments_lexer": "ipython3",
   "version": "3.8.10"
  }
 },
 "nbformat": 4,
 "nbformat_minor": 5
}
