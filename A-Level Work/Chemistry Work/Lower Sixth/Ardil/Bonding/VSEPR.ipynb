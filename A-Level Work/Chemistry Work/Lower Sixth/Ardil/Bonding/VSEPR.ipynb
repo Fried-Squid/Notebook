{
 "cells": [
  {
   "cell_type": "markdown",
   "id": "a90d2072-cad1-4677-a7f4-9d4d0da72742",
   "metadata": {},
   "source": [
    "$$\\require{mhchem}$$<span style=\"font-size: 50px\">VSEPR Theory</span><hr>"
   ]
  },
  {
   "cell_type": "markdown",
   "id": "5950009e-9bf1-4800-82a3-437569149490",
   "metadata": {},
   "source": [
    "<ul>\n",
    "    <li> VSEPR Theory, or Valence Shell Electron Pair Repulsion Theory, predicts the shape of molecules using electron pairs </li>\n",
    "    <li> Electron pairs are negative (see electronegativity) so repel eachother</li>\n",
    "    <li> The shape of a molecule maximises the distance between electron pairs to minimise repulsion.</li>\n",
    "</ul>\n",
    "<span style=\"font-size:20px\">AXE Notation </span>\n",
    "<ul>\n",
    "    <li>A - Central Atom. This atom is usally the one that makes the most bonds.</li>\n",
    "    <li>X - Bonding pair.</li>\n",
    "    <li>E - Lone pair, electron pairs that dont form a bond. </li>\n",
    "    <ol>\n",
    "        <li> Indentify A and it's group number. </li>\n",
    "        <li> For each X, add an electron for each bond it makes with A. </li>\n",
    "        <li> Adjust for ion charge if it's an ion</li>\n",
    "        <li> Divide electron count by 2 to find number of electron pairs. </li>\n",
    "        <li> Identify lone pairs using the number of electron pairs then match to an AXE shape </li>\n",
    "    </ol>\n",
    "    <li> There are many AXE shapes to match to. Dashes show a bond going into the page, wedges going out.</li>\n",
    "    <li> Lone pair - Lone pair > Lone pair - bonding pair > Bonding pair - Bonding pair</li>\n",
    "    <li> Generally, each lone pair reduces bonding angle by $2.5°$</li>\n",
    "    <li> $\\ce{AX_2}$ - Linear. Bond angle $180°$. </li>\n",
    "    <img src=\"static/AX2\">\n",
    "    <li> $\\ce{AX_3}$ - Trigonal Planar. Bond angle $120°$. </li>\n",
    "    <img src=\"static/AX3\">\n",
    "    <li> $\\ce{AX_4}$ - Tetrahedral. Bond angle $109.5°$. </li>\n",
    "    <img src=\"static/AX4\">\n",
    "    <li> $\\ce{AX_5}$ - Trigonal Bipyramidal. Bond angle $120°$ and $90°$. </li>\n",
    "    <img src=\"static/AX5\">\n",
    "    <li> $\\ce{AX_6}$ - Octahedral. Bond angle $90°$. </li>\n",
    "    <img src=\"static/AX6\">\n",
    "    <li> $\\ce{AX_2E}$ - Bent. Bond angle $117.5°$. </li>\n",
    "    <img src=\"static/AX2E\">\n",
    "    <li> $\\ce{AX_2E_2}$ - Bent. Bond angle $104.5°$. </li>\n",
    "    <img src=\"static/AX2E2\">\n",
    "    <li> $\\ce{AX_3E}$ - Trigonal Pyramidal. Bond angle $107°$. </li>\n",
    "    <img src=\"static/AX3E\">\n",
    "    <li> $\\ce{AX_3E_2}$ - T Shape. Bond angle $90°$. </li>\n",
    "    <img src=\"static/AX3E2\">\n",
    "    <li> $\\ce{AX_4E}$ - Seesaw Shape (AKA Sawhorse). Bond angle $118°$ and $90°$. </li>\n",
    "    <img src=\"static/AX4E\">\n",
    "    <li> $\\ce{AX_4E_2}$ - Square Planar. Bond angle $90°$. </li>\n",
    "    <img src=\"static/AX4E2\">\n",
    "    <li> $\\ce{AX_5E}$ - Square Pyramidal. Bond angle $90°$. </li>\n",
    "    <img src=\"static/AX5E\">\n",
    "    \n",
    "</ul>"
   ]
  },
  {
   "cell_type": "code",
   "execution_count": null,
   "id": "1d82c39d-0d08-4166-9a37-71adff5971ad",
   "metadata": {},
   "outputs": [],
   "source": []
  }
 ],
 "metadata": {
  "kernelspec": {
   "display_name": "Python 3",
   "language": "python",
   "name": "python3"
  },
  "language_info": {
   "codemirror_mode": {
    "name": "ipython",
    "version": 3
   },
   "file_extension": ".py",
   "mimetype": "text/x-python",
   "name": "python",
   "nbconvert_exporter": "python",
   "pygments_lexer": "ipython3",
   "version": "3.6.11"
  }
 },
 "nbformat": 4,
 "nbformat_minor": 5
}
