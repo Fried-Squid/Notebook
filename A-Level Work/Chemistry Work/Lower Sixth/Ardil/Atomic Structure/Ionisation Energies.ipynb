{
 "cells": [
  {
   "cell_type": "markdown",
   "id": "13edf728-64b1-4a6e-b9f1-03959b0b60b9",
   "metadata": {},
   "source": [
    "$$\\require{mhchem}$$<span style=\"font-size: 50px\">Ionisation Energies</span><hr>"
   ]
  },
  {
   "cell_type": "markdown",
   "id": "1b9373a6-4797-41c9-9ee1-c2920b7392ee",
   "metadata": {},
   "source": [
    "<span style=\"font-size: 30px\">First Ionisation Energy.</span> \n",
    "<hr>\n",
    "<ul>\n",
    "    <li>\n",
    "        Ionisation is the process of an atom becoming an ion. <li>The stronger the attractive force from the nucleus on an electron, the harder it is to remove said electron.</li><li>There are 3 factors that affect the energy required to remove a given electron:</li>\n",
    "    <ol>\n",
    "        <li>As distance from the nucleus increases, the force required to remove the electron decreases (Atomic Radius)</li>\n",
    "        <li>The Nuclear Charge affects the attractive force of the nucleus, higher charge, more attraction.</li>\n",
    "        <li>The extent of the sheilding also affects the force, as more full shells in the way blocks more of the attractive forces.</li>\n",
    "    </ol> \n",
    "    <li>The <b>First Ionisation Energy</b> is defined as the \"Energy required to remove one mole of electrons from one mole of gaseous atoms to form one mole of gaseous ions.\"</li><li>$\\ce{X_{(g)}\\longrightarrow X^+_{(g)} + e^-}$</li><li>This number is affected by the energy it takes to remove an electron.</li>\n",
    "</ul>"
   ]
  },
  {
   "cell_type": "code",
   "execution_count": null,
   "id": "accbba2c-5385-4a88-9d32-b8a6da3ef53b",
   "metadata": {},
   "outputs": [],
   "source": []
  }
 ],
 "metadata": {
  "kernelspec": {
   "display_name": "Python 3",
   "language": "python",
   "name": "python3"
  },
  "language_info": {
   "codemirror_mode": {
    "name": "ipython",
    "version": 3
   },
   "file_extension": ".py",
   "mimetype": "text/x-python",
   "name": "python",
   "nbconvert_exporter": "python",
   "pygments_lexer": "ipython3",
   "version": "3.6.11"
  }
 },
 "nbformat": 4,
 "nbformat_minor": 5
}
