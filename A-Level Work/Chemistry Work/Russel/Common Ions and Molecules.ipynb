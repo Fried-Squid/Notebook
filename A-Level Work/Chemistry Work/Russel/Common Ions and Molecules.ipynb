{
 "cells": [
  {
   "cell_type": "markdown",
   "id": "b73e4b85-9d0c-49f9-9fcc-0bfa40272b36",
   "metadata": {},
   "source": [
    "$$\\require{mhchem}$$<span style=\"font-size: 50px\">Common Ions and Molecules</span><hr>\n",
    "<span style=\"font-size:30px;\">Leia's quizlets</span>\n",
    "<a href=\"https://quizlet.com/gb/616165478/common-molecular-compounds-flash-cards/\">Common molecular compounds</a><br>\n",
    "<a href=\"https://quizlet.com/gb/616184257/common-negative-ions-flash-cards/\">Common negative ions</a><br>\n",
    "<a href=\"https://quizlet.com/gb/616175077/common-positive-ions-flash-cards/\">Common positive ions</a><br>\n",
    "<a href=\"https://quizlet.com/gb/616172379/common-acid-formulae-flash-cards/\">Common acid formulas</a><br>\n",
    "<hr>\n",
    "<span style=\"font-size:30px;\">Common Ions</span>\n",
    "<ul>\n",
    "    <li>Silver - $\\ce{Ag^+}$</li><li>Zinc - $\\ce{Zn^{2+}}$</li><li>Ammonium - $\\ce{NH_4^+}$</li><li>Hydrogen - $\\ce{H^+}$</li>\n",
    "    <li>Nitrate - $\\ce{NO_3^-}$</li><li>Sulfate - $\\ce{SO_4^{2-}}$</li><li>Carbonate - $\\ce{CO_3^{2-}}$</li><li>Hydrogencarbonate - $\\ce{HCO_3^-}$</li>\n",
    "    <li>Hydroxide - $\\ce{OH^-}$</li><li>Hydride - $\\ce{H^{-}}$</li><li>Phosphate - $\\ce{PO_3^{3-}}$</li>\n",
    "    </ul>\n",
    "<hr>\n",
    "<span style=\"font-size:30px;\">Common Ions</span>"
   ]
  },
  {
   "cell_type": "code",
   "execution_count": null,
   "id": "37b596d4-c86c-4691-a6ec-999a0a7dad39",
   "metadata": {},
   "outputs": [],
   "source": []
  }
 ],
 "metadata": {
  "kernelspec": {
   "display_name": "Python 3 (ipykernel)",
   "language": "python",
   "name": "python3"
  },
  "language_info": {
   "codemirror_mode": {
    "name": "ipython",
    "version": 3
   },
   "file_extension": ".py",
   "mimetype": "text/x-python",
   "name": "python",
   "nbconvert_exporter": "python",
   "pygments_lexer": "ipython3",
   "version": "3.7.3"
  }
 },
 "nbformat": 4,
 "nbformat_minor": 5
}
