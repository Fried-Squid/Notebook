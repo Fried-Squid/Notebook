{
 "cells": [
  {
   "cell_type": "markdown",
   "id": "6e9add27-82ae-4331-8a5c-029d0891d498",
   "metadata": {},
   "source": [
    "$$\\require{mhchem}$$<span style=\"font-size: 50px\">Ionic Chem</span><hr>"
   ]
  },
  {
   "cell_type": "markdown",
   "id": "0fa2d0cb-4c90-4c51-b2e3-082d6b750013",
   "metadata": {},
   "source": [
    "<span style=\"font-size:30px;\">Ionic Equations</span><ul>\n",
    "    <li>Ionic equations involved things dissolved in a solvent.</li>\n",
    "    <li>Aqueous things break down into ions, and then \"spectator\" ions (ones that dont change) are removed.</li>\n",
    "    <li>Example:</li>\n",
    "    <ol>\n",
    "    <li><span>Write out the balanced equation : $\\ce{H_2SO_4\\space+\\space 2NaHCO_3\\longrightarrow Na_2SO_2 \\space+\\space 2H_2O\\space+\\space 2CO_2} $</span> </li>\n",
    "    <li><span>Write out the ionic equation with spectator ions: $\\ce{2H^+_{(aq)}\\space+\\space S^{2+}_{(aq)}\\space+\\space4O^{2-}_{(aq)}\\space+\\space 2Na^+_{(aq)}\\space+\\space2HCO_3^{-}_{(aq)}\\longrightarrow 2Na^+_{(aq)}\\space+\\space S^{2+}_{(aq)} \\space+\\space 2O^{2-}_{(aq)} \\space+\\space 2H_2O_{(l)}\\space+\\space 2CO_{2(g)}} $ </span></li>\n",
    "    <li><span>Write out the ionic equations without spectators and cancel: $\\ce{H^+_{(aq)}\\space+\\space CO_3^{2-}_{(aq)}\\longrightarrow H_2O_{(l)}\\space+\\space CO_{2(aq)}}$</span></li>\n",
    "    </ol>\n",
    "</ul><hr>"
   ]
  },
  {
   "cell_type": "markdown",
   "id": "4e8839a8-b8b4-4f08-9760-bc501d8cde3e",
   "metadata": {},
   "source": [
    "<span style=\"font-size:30px;\">Precipitates</span><ul>\n",
    "    <li>Ionic equations involved things dissolved in a solvent.</li>\n",
    "    <li>Sometimes, a product of an ionic reaction is not Aqueous, and so it is a precipitate, that is precipitated out.</li>\n",
    "    <li>In an equation, this is represented by having the (s) state symbol.</li>\n",
    "</ul>"
   ]
  },
  {
   "cell_type": "code",
   "execution_count": null,
   "id": "c858321f-07ce-4f0f-acd3-723a2f2384ef",
   "metadata": {},
   "outputs": [],
   "source": []
  }
 ],
 "metadata": {
  "kernelspec": {
   "display_name": "Python 3 (ipykernel)",
   "language": "python",
   "name": "python3"
  },
  "language_info": {
   "codemirror_mode": {
    "name": "ipython",
    "version": 3
   },
   "file_extension": ".py",
   "mimetype": "text/x-python",
   "name": "python",
   "nbconvert_exporter": "python",
   "pygments_lexer": "ipython3",
   "version": "3.7.3"
  }
 },
 "nbformat": 4,
 "nbformat_minor": 5
}
