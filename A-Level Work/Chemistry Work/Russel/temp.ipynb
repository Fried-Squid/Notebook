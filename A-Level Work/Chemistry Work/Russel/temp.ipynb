{
 "cells": [
  {
   "cell_type": "raw",
   "id": "0ed151e2-dd50-4652-b737-a34daa6bcdb9",
   "metadata": {},
   "source": [
    "NO WORK TO DO, ALL IS ON WORKSHEET. PREPARE TO MAKE NOTES FOR IONIC CHEMISTRY"
   ]
  }
 ],
 "metadata": {
  "kernelspec": {
   "display_name": "Python 3 (ipykernel)",
   "language": "python",
   "name": "python3"
  },
  "language_info": {
   "codemirror_mode": {
    "name": "ipython",
    "version": 3
   },
   "file_extension": ".py",
   "mimetype": "text/x-python",
   "name": "python",
   "nbconvert_exporter": "python",
   "pygments_lexer": "ipython3",
   "version": "3.7.3"
  }
 },
 "nbformat": 4,
 "nbformat_minor": 5
}
