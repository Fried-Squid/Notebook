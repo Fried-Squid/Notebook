{
 "cells": [
  {
   "cell_type": "markdown",
   "id": "1c37c422-99a7-4e00-b035-eaf8ef35ffc6",
   "metadata": {},
   "source": [
    "$$\\require{mhchem}$$<span style=\"font-size: 50px\">Help for leia lmao</span><hr>"
   ]
  },
  {
   "cell_type": "markdown",
   "id": "5814f9f9-c0f2-4073-af67-5aed264a6987",
   "metadata": {},
   "source": [
    "<span style=\"font-size:30px;\">Question 1</span><ol>\n",
    "    <li style=\"font-size:20px;\">Write out the balanced equation (Ex. 3rd row): $\\ce{H_2SO_4\\space+\\space 2NaHCO_3\\longrightarrow Na_2SO_2 \\space+\\space 2H_2O\\space+\\space 2CO_2} $ </li>\n",
    "    <li style=\"font-size:20px;\">Write out the ionic equation: $\\ce{2H^+_{(aq)}\\space+\\space 2CO_3^{2-}_{(aq)}\\longrightarrow 2H_2O_{(l)}\\space+\\space 2CO_{2(aq)}}$</li>\n",
    "    <li style=\"font-size:20px;\" >Look at amount of $\\ce{H^+}$ (1) and of base $\\ce{CO_3^2-}$ (1) </li>\n",
    "    <li style=\"font-size:20px;\">$\\therefore$ ratio is 1:1</li>\n",
    "    </ol><hr>"
   ]
  },
  {
   "cell_type": "markdown",
   "id": "2b6c64b2-4781-485e-88f5-e4ccd1e21b4c",
   "metadata": {},
   "source": [
    "<span style=\"font-size:30px;\">2f</span><ol>\n",
    "    <li><span style=\"font-size:20px;\">Write out the balanced equation : $\\ce{H_2SO_4\\space+\\space 2NaHCO_3\\longrightarrow Na_2SO_2 \\space+\\space 2H_2O\\space+\\space 2CO_2} $</span> </li>\n",
    "    <li><span style=\"font-size:20px;\">Write out the ionic equation with spectator ions: $\\ce{2H^+_{(aq)}\\space+\\space S^{2+}_{(aq)}\\space+\\space4O^{2-}_{(aq)}\\space+\\space 2Na^+_{(aq)}\\space+\\space2HCO_3^{-}_{(aq)}\\longrightarrow 2Na^+_{(aq)}\\space+\\space S^{2+}_{(aq)} \\space+\\space 2O^{2-}_{(aq)} \\space+\\space 2H_2O_{(l)}\\space+\\space 2CO_{2(g)}} $ </span></li>\n",
    "    <li><span style=\"font-size:20px;\">Write out the ionic equations without spectators and cancel: $\\ce{H^+_{(aq)}\\space+\\space CO_3^{2-}_{(aq)}\\longrightarrow H_2O_{(l)}\\space+\\space CO_{2(aq)}}$</span></li>\n",
    "    </ol><hr>"
   ]
  },
  {
   "cell_type": "markdown",
   "id": "231f1cde-a0d0-4f22-bd18-c742c2b58527",
   "metadata": {},
   "source": [
    "<span style=\"font-size:30px;\">$\\ce{H_2SO_4}$ breaks into $\\ce{2H^+_{(aq)}\\space+\\space S^{2+}_{(aq)}\\space+\\space4O^{2-}_{(aq)}}$, you got that right\n",
    "<br><br>\n",
    "$\\ce{NaHCO_3}$ breaks into $\\ce{2Na^+_{(aq)}\\space+\\space2HCO_3^{-}_{(aq)}}$, not $\\ce{2Na^+_{(aq)}\\space+\\space2H^+\\space + \\space 2CO_3^{-}_{(aq)}}$</span>"
   ]
  },
  {
   "cell_type": "code",
   "execution_count": null,
   "id": "dcb30291-5d2f-45f1-9e4d-80a10d2cbb69",
   "metadata": {},
   "outputs": [],
   "source": []
  }
 ],
 "metadata": {
  "kernelspec": {
   "display_name": "Python 3 (ipykernel)",
   "language": "python",
   "name": "python3"
  },
  "language_info": {
   "codemirror_mode": {
    "name": "ipython",
    "version": 3
   },
   "file_extension": ".py",
   "mimetype": "text/x-python",
   "name": "python",
   "nbconvert_exporter": "python",
   "pygments_lexer": "ipython3",
   "version": "3.7.3"
  }
 },
 "nbformat": 4,
 "nbformat_minor": 5
}
