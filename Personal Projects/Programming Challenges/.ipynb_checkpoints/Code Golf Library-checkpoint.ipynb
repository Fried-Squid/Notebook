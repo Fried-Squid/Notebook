{
 "cells": [
  {
   "cell_type": "raw",
   "id": "02c6021b-7862-48e4-b648-11c590c7dcbf",
   "metadata": {},
   "source": [
    "Dec -> Bin"
   ]
  },
  {
   "cell_type": "code",
   "execution_count": 1,
   "id": "28d7df13-e070-43b5-b634-744490a81b2c",
   "metadata": {},
   "outputs": [
    {
     "name": "stdin",
     "output_type": "stream",
     "text": [
      " 57\n"
     ]
    },
    {
     "name": "stdout",
     "output_type": "stream",
     "text": [
      "111001\n"
     ]
    }
   ],
   "source": [
    "i=int(input())\n",
    "print(bin(i)[2:]) #12 bytes"
   ]
  },
  {
   "cell_type": "raw",
   "id": "d4150440-7b7c-474e-a8ae-1b1a6b1d7372",
   "metadata": {},
   "source": [
    "Bin -> Dec "
   ]
  },
  {
   "cell_type": "code",
   "execution_count": 5,
   "id": "8d7e0da8-59c1-4b8c-bb86-edcbaf57c33f",
   "metadata": {},
   "outputs": [
    {
     "name": "stdin",
     "output_type": "stream",
     "text": [
      " 1111111\n"
     ]
    },
    {
     "name": "stdout",
     "output_type": "stream",
     "text": [
      "127\n"
     ]
    }
   ],
   "source": [
    "i=input()\n",
    "o=sum([int(i[x])*2**x for x in range(len(i))]) #42 bytes\n",
    "print(o)"
   ]
  },
  {
   "cell_type": "raw",
   "id": "52d57b01-2c2b-4521-929b-2688b5fb6009",
   "metadata": {},
   "source": [
    "FizzBuzz"
   ]
  },
  {
   "cell_type": "code",
   "execution_count": 9,
   "id": "c68d8b77-d010-46a4-a217-177b2e350847",
   "metadata": {},
   "outputs": [
    {
     "name": "stdout",
     "output_type": "stream",
     "text": [
      "1\n",
      "2\n",
      "Fizz\n",
      "4\n",
      "Buzz\n",
      "Fizz\n",
      "7\n",
      "8\n",
      "Fizz\n",
      "Buzz\n",
      "11\n",
      "Fizz\n",
      "13\n",
      "14\n",
      "FizzBuzz\n"
     ]
    }
   ],
   "source": [
    "for i in range(1,16):print((lambda x:\"FizzBuzz\"if x%3==0and x%5==0else\"Fizz\"if x%3==0else\"Buzz\"if x%5==0 else x)(i)) #117 Bytes"
   ]
  },
  {
   "cell_type": "code",
   "execution_count": null,
   "id": "fdd638d2-9eca-4c7e-8c94-a3cd74e97e76",
   "metadata": {},
   "outputs": [],
   "source": []
  }
 ],
 "metadata": {
  "kernelspec": {
   "display_name": "Python 3 (ipykernel)",
   "language": "python",
   "name": "python3"
  },
  "language_info": {
   "codemirror_mode": {
    "name": "ipython",
    "version": 3
   },
   "file_extension": ".py",
   "mimetype": "text/x-python",
   "name": "python",
   "nbconvert_exporter": "python",
   "pygments_lexer": "ipython3",
   "version": "3.7.3"
  }
 },
 "nbformat": 4,
 "nbformat_minor": 5
}
